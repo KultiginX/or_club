{
 "cells": [
  {
   "cell_type": "markdown",
   "metadata": {},
   "source": [
    "## Operations Reserach Club\n",
    "## Optimization with Google OR tools"
   ]
  },
  {
   "cell_type": "markdown",
   "metadata": {},
   "source": [
    "Please visit the following website for the tutorials and documentation. \n",
    "\n",
    "https://developers.google.com/optimization/introduction/python"
   ]
  },
  {
   "cell_type": "markdown",
   "metadata": {},
   "source": [
    "We will maximize the usage of the operations room of a hospital. It has multiple op-rooms and multiple departments that are doing the operations in those op-rooms."
   ]
  },
  {
   "cell_type": "code",
   "execution_count": 1,
   "metadata": {},
   "outputs": [],
   "source": [
    "from ortools.linear_solver import pywraplp"
   ]
  },
  {
   "cell_type": "code",
   "execution_count": 2,
   "metadata": {},
   "outputs": [],
   "source": [
    "def create_data_model():\n",
    "    \"\"\"Create the data for the example.\"\"\"\n",
    "    data = {}\n",
    "    weights = [48, 30, 42, 36, 36, 48, 42, 42, 36, 24, 30, 30, 42, 36, 36]\n",
    "    values = [10, 30, 25, 50, 35, 30, 15, 40, 30, 35, 45, 10, 20, 30, 25]\n",
    "    data['weights'] = weights\n",
    "    data['values'] = values\n",
    "    data['items'] = list(range(len(weights)))\n",
    "    data['num_items'] = len(weights)\n",
    "    \n",
    "    num_bins = 5\n",
    "    data['bins'] = list(range(num_bins))\n",
    "    data['bin_capacities'] = [100, 100, 100, 100, 100]\n",
    "    \n",
    "    num_deps = 2\n",
    "    data['deps'] = list(range(num_deps))\n",
    "    data['dep_capacities'] = [100, 300]\n",
    "    \n",
    "    return data"
   ]
  },
  {
   "cell_type": "code",
   "execution_count": 3,
   "metadata": {},
   "outputs": [],
   "source": [
    "# Create the mip solver with the SCIP backend.\n",
    "solver = pywraplp.Solver.CreateSolver('SCIP')"
   ]
  },
  {
   "cell_type": "code",
   "execution_count": 4,
   "metadata": {},
   "outputs": [
    {
     "data": {
      "text/plain": [
       "{'weights': [48, 30, 42, 36, 36, 48, 42, 42, 36, 24, 30, 30, 42, 36, 36],\n",
       " 'values': [10, 30, 25, 50, 35, 30, 15, 40, 30, 35, 45, 10, 20, 30, 25],\n",
       " 'items': [0, 1, 2, 3, 4, 5, 6, 7, 8, 9, 10, 11, 12, 13, 14],\n",
       " 'num_items': 15,\n",
       " 'bins': [0, 1, 2, 3, 4],\n",
       " 'bin_capacities': [100, 100, 100, 100, 100],\n",
       " 'deps': [0, 1],\n",
       " 'dep_capacities': [100, 300]}"
      ]
     },
     "execution_count": 4,
     "metadata": {},
     "output_type": "execute_result"
    }
   ],
   "source": [
    "data=create_data_model()\n",
    "data"
   ]
  },
  {
   "cell_type": "code",
   "execution_count": 5,
   "metadata": {},
   "outputs": [],
   "source": [
    "# Variables\n",
    "# x[i, j] = 1 if item i is packed in bin j.\n",
    "x = {}\n",
    "for i in data['items']:\n",
    "    for j in data['bins']:\n",
    "        for k in data['deps']:\n",
    "            x[(i,j,k)] = solver.IntVar(0, 1, 'x_%i_%i_%i' % (i,j,k))"
   ]
  },
  {
   "cell_type": "raw",
   "metadata": {},
   "source": [
    "x"
   ]
  },
  {
   "cell_type": "code",
   "execution_count": 6,
   "metadata": {},
   "outputs": [],
   "source": [
    "# Constraints\n",
    "# Each item can be in at most one bin.\n",
    "for i in data['items']:\n",
    "    solver.Add(sum(x[i, j,k] for j in data['bins'] for k in data['deps']) <= 1)\n",
    "            \n",
    "        \n",
    "            \n",
    "# The amount packed in each bin cannot exceed its capacity.\n",
    "for j in data['bins']:\n",
    "    solver.Add(\n",
    "                sum(x[(i, j,k)] * data['weights'][i]\n",
    "                    for i in data['items'] for k in data['deps']) <= data['bin_capacities'][j])\n",
    "    \n",
    "# The amount packed in each department cannot exceed its capacity.\n",
    "for k in data['deps']:\n",
    "    solver.Add(\n",
    "                sum(x[(i, j,k)] * data['weights'][i]\n",
    "                    for i in data['items'] for j in data['bins']) <= data['dep_capacities'][k])"
   ]
  },
  {
   "cell_type": "code",
   "execution_count": 7,
   "metadata": {},
   "outputs": [
    {
     "name": "stdout",
     "output_type": "stream",
     "text": [
      "Number of constraints = 22\n"
     ]
    }
   ],
   "source": [
    "print('Number of constraints =', solver.NumConstraints())"
   ]
  },
  {
   "cell_type": "code",
   "execution_count": 8,
   "metadata": {},
   "outputs": [],
   "source": [
    "# Objective\n",
    "objective = solver.Objective()\n",
    "\n",
    "for i in data['items']:\n",
    "    for j in data['bins']:\n",
    "        for k in data['deps']:\n",
    "            objective.SetCoefficient(x[(i,j,k)], data['values'][i])\n",
    "objective.SetMaximization()"
   ]
  },
  {
   "cell_type": "code",
   "execution_count": 9,
   "metadata": {},
   "outputs": [
    {
     "name": "stdout",
     "output_type": "stream",
     "text": [
      "Total packed value: 375.0\n",
      "Bin  0 \n",
      "\n",
      "Item 2 - weight: 42  value: 25\n",
      "Item 9 - weight: 24  value: 35\n",
      "Item 10 - weight: 30  value: 45\n",
      "Packed bin weight: 96\n",
      "Packed bin value: 105\n",
      "\n",
      "Bin  1 \n",
      "\n",
      "Item 8 - weight: 36  value: 30\n",
      "Item 13 - weight: 36  value: 30\n",
      "Packed bin weight: 72\n",
      "Packed bin value: 60\n",
      "\n",
      "Bin  2 \n",
      "\n",
      "Item 5 - weight: 48  value: 30\n",
      "Item 14 - weight: 36  value: 25\n",
      "Packed bin weight: 84\n",
      "Packed bin value: 55\n",
      "\n",
      "Bin  3 \n",
      "\n",
      "Item 1 - weight: 30  value: 30\n",
      "Item 3 - weight: 36  value: 50\n",
      "Packed bin weight: 66\n",
      "Packed bin value: 80\n",
      "\n",
      "Bin  4 \n",
      "\n",
      "Item 4 - weight: 36  value: 35\n",
      "Item 7 - weight: 42  value: 40\n",
      "Packed bin weight: 78\n",
      "Packed bin value: 75\n",
      "\n",
      "Total packed weight: 396\n"
     ]
    }
   ],
   "source": [
    "status = solver.Solve()\n",
    "if status == pywraplp.Solver.OPTIMAL:\n",
    "    print('Total packed value:', objective.Value())\n",
    "    total_weight = 0\n",
    "    for j in data['bins']:\n",
    "        bin_weight = 0\n",
    "        bin_value = 0\n",
    "\n",
    "        print('Bin ', j, '\\n')\n",
    "        for i in data['items']:\n",
    "            for k in data['deps']:\n",
    "                if x[i, j,k].solution_value() > 0:\n",
    "                    print('Item', i, '- weight:', data['weights'][i], ' value:',data['values'][i])\n",
    "                    bin_weight += data['weights'][i]\n",
    "                    bin_value += data['values'][i]\n",
    "        print('Packed bin weight:', bin_weight)\n",
    "        print('Packed bin value:', bin_value)\n",
    "\n",
    "        print()\n",
    "        total_weight += bin_weight\n",
    "    print('Total packed weight:', total_weight)\n",
    "else:\n",
    "    print('The problem does not have an optimal solution.')"
   ]
  },
  {
   "cell_type": "code",
   "execution_count": 10,
   "metadata": {},
   "outputs": [
    {
     "name": "stdout",
     "output_type": "stream",
     "text": [
      "Total packed value: 375.0 \n",
      "\n",
      "Dep  0 \n",
      "\n",
      "Item 1 - weight: 30  value: 30\n",
      "Item 10 - weight: 30  value: 45\n",
      "Item 14 - weight: 36  value: 25\n",
      "Packed department weight: 96\n",
      "Packed department value: 100\n",
      "\n",
      "Dep  1 \n",
      "\n",
      "Item 2 - weight: 42  value: 25\n",
      "Item 3 - weight: 36  value: 50\n",
      "Item 4 - weight: 36  value: 35\n",
      "Item 5 - weight: 48  value: 30\n",
      "Item 7 - weight: 42  value: 40\n",
      "Item 8 - weight: 36  value: 30\n",
      "Item 9 - weight: 24  value: 35\n",
      "Item 13 - weight: 36  value: 30\n",
      "Packed department weight: 300\n",
      "Packed department value: 275\n",
      "\n",
      "Total packed weight: 396\n"
     ]
    }
   ],
   "source": [
    "status = solver.Solve()\n",
    "if status == pywraplp.Solver.OPTIMAL:\n",
    "    print('Total packed value:', objective.Value(),'\\n')\n",
    "    total_weight = 0\n",
    "    for k in data['deps']:\n",
    "        dep_weight = 0\n",
    "        dep_value = 0\n",
    "\n",
    "        print('Dep ', k, '\\n')\n",
    "        for i in data['items']:\n",
    "            for j in data['bins']:\n",
    "                if x[i, j,k].solution_value() > 0:\n",
    "                    print('Item', i, '- weight:', data['weights'][i], ' value:',data['values'][i])\n",
    "                    dep_weight += data['weights'][i]\n",
    "                    dep_value += data['values'][i]\n",
    "        print('Packed department weight:', dep_weight)\n",
    "        print('Packed department value:', dep_value)\n",
    "\n",
    "        print()\n",
    "        total_weight += dep_weight\n",
    "    print('Total packed weight:', total_weight)\n",
    "else:\n",
    "    print('The problem does not have an optimal solution.')"
   ]
  },
  {
   "cell_type": "code",
   "execution_count": 11,
   "metadata": {},
   "outputs": [
    {
     "name": "stdout",
     "output_type": "stream",
     "text": [
      "item  1  is in the department  0 and in OP-room  3 value: 30 weight: 30\n",
      "item  2  is in the department  1 and in OP-room  0 value: 25 weight: 42\n",
      "item  3  is in the department  1 and in OP-room  3 value: 50 weight: 36\n",
      "item  4  is in the department  1 and in OP-room  4 value: 35 weight: 36\n",
      "item  5  is in the department  1 and in OP-room  2 value: 30 weight: 48\n",
      "item  7  is in the department  1 and in OP-room  4 value: 40 weight: 42\n",
      "item  8  is in the department  1 and in OP-room  1 value: 30 weight: 36\n",
      "item  9  is in the department  1 and in OP-room  0 value: 35 weight: 24\n",
      "item  10  is in the department  0 and in OP-room  0 value: 45 weight: 30\n",
      "item  13  is in the department  1 and in OP-room  1 value: 30 weight: 36\n",
      "item  14  is in the department  0 and in OP-room  2 value: 25 weight: 36\n"
     ]
    }
   ],
   "source": [
    "for i,j in x.items():\n",
    "    if j.solution_value()>0:\n",
    "        print('item ', i[0], ' is in the department ', i[2],'and in OP-room ', i[1], 'value:',data['values'][i[0]], 'weight:',data['weights'][i[0]],)"
   ]
  },
  {
   "cell_type": "raw",
   "metadata": {},
   "source": [
    "for i,j in x.items():\n",
    "    print(i, j.solution_value())"
   ]
  },
  {
   "cell_type": "code",
   "execution_count": null,
   "metadata": {},
   "outputs": [],
   "source": []
  },
  {
   "cell_type": "code",
   "execution_count": null,
   "metadata": {},
   "outputs": [],
   "source": []
  }
 ],
 "metadata": {
  "kernelspec": {
   "display_name": "Python 3",
   "language": "python",
   "name": "python3"
  },
  "language_info": {
   "codemirror_mode": {
    "name": "ipython",
    "version": 3
   },
   "file_extension": ".py",
   "mimetype": "text/x-python",
   "name": "python",
   "nbconvert_exporter": "python",
   "pygments_lexer": "ipython3",
   "version": "3.7.7"
  }
 },
 "nbformat": 4,
 "nbformat_minor": 5
}
