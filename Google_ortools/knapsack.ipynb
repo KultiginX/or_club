{
 "cells": [
  {
   "cell_type": "markdown",
   "id": "agricultural-keeping",
   "metadata": {},
   "source": [
    "## Operations Reserach Club\n",
    "## Optimization with Google OR tools"
   ]
  },
  {
   "cell_type": "markdown",
   "id": "ranking-ghana",
   "metadata": {},
   "source": [
    "Please visit the following website for the tutorials and documentation. \n",
    "\n",
    "https://developers.google.com/optimization/introduction/python"
   ]
  },
  {
   "cell_type": "markdown",
   "id": "moral-twenty",
   "metadata": {},
   "source": [
    "We will maximize the usage of the operations room of a hospital. It has multiple op-rooms and multiple departments that are doing the operations in those op-rooms."
   ]
  },
  {
   "cell_type": "code",
   "execution_count": 4,
   "id": "ecological-prophet",
   "metadata": {},
   "outputs": [],
   "source": [
    "from ortools.linear_solver import pywraplp"
   ]
  },
  {
   "cell_type": "code",
   "execution_count": 5,
   "id": "loving-somewhere",
   "metadata": {},
   "outputs": [],
   "source": [
    "def create_data_model():\n",
    "    \"\"\"Create the data for the example.\"\"\"\n",
    "    data = {}\n",
    "    weights1 = [48, 30, 42]\n",
    "    weights2 = [36, 36, 48, 42, 42, 36, 24, 30, 30, 42, 36, 36]\n",
    "    values1 =  [10, 30, 25]\n",
    "    values2 =  [50, 35, 30, 15, 40, 30, 35, 45, 10, 20, 30, 25]\n",
    "    data['weights1'] = weights1\n",
    "    data['values1'] = values1\n",
    "    data['items1'] = list(range(len(weights1)))\n",
    "    data['num_items1'] = len(weights1)\n",
    "    \n",
    "    data['weights2'] = weights2\n",
    "    data['values2'] = values2\n",
    "    data['items2'] = list(range(len(weights2)))\n",
    "    data['num_items2'] = len(weights2)   \n",
    "    \n",
    "    num_bins = 5\n",
    "    data['bins'] = list(range(num_bins))\n",
    "    data['bin_capacities'] = [100, 100, 100, 100, 100]\n",
    "    return data"
   ]
  },
  {
   "cell_type": "code",
   "execution_count": 6,
   "id": "enabling-promotion",
   "metadata": {},
   "outputs": [],
   "source": [
    "# Create the mip solver with the SCIP backend.\n",
    "solver = pywraplp.Solver.CreateSolver('SCIP')"
   ]
  },
  {
   "cell_type": "code",
   "execution_count": 7,
   "id": "irish-timeline",
   "metadata": {},
   "outputs": [
    {
     "data": {
      "text/plain": [
       "{'weights': [48, 30, 42, 36, 36, 48, 42, 42, 36, 24, 30, 30, 42, 36, 36],\n",
       " 'values': [10, 30, 25, 50, 35, 30, 15, 40, 30, 35, 45, 10, 20, 30, 25],\n",
       " 'items': [0, 1, 2, 3, 4, 5, 6, 7, 8, 9, 10, 11, 12, 13, 14],\n",
       " 'num_items': 15,\n",
       " 'bins': [0, 1, 2, 3, 4],\n",
       " 'bin_capacities': [100, 100, 100, 100, 100]}"
      ]
     },
     "execution_count": 7,
     "metadata": {},
     "output_type": "execute_result"
    }
   ],
   "source": [
    "data=create_data_model()\n",
    "data"
   ]
  },
  {
   "cell_type": "code",
   "execution_count": 8,
   "id": "assured-venture",
   "metadata": {},
   "outputs": [],
   "source": [
    "# Variables\n",
    "# x[i, j] = 1 if item i is packed in bin j.\n",
    "x = {}\n",
    "for i in data['items']:\n",
    "    for j in data['bins']:\n",
    "        x[(i, j)] = solver.IntVar(0, 1, 'x_%i_%i' % (i, j))"
   ]
  },
  {
   "cell_type": "code",
   "execution_count": 9,
   "id": "effective-dining",
   "metadata": {},
   "outputs": [
    {
     "data": {
      "text/plain": [
       "{(0, 0): x_0_0,\n",
       " (0, 1): x_0_1,\n",
       " (0, 2): x_0_2,\n",
       " (0, 3): x_0_3,\n",
       " (0, 4): x_0_4,\n",
       " (1, 0): x_1_0,\n",
       " (1, 1): x_1_1,\n",
       " (1, 2): x_1_2,\n",
       " (1, 3): x_1_3,\n",
       " (1, 4): x_1_4,\n",
       " (2, 0): x_2_0,\n",
       " (2, 1): x_2_1,\n",
       " (2, 2): x_2_2,\n",
       " (2, 3): x_2_3,\n",
       " (2, 4): x_2_4,\n",
       " (3, 0): x_3_0,\n",
       " (3, 1): x_3_1,\n",
       " (3, 2): x_3_2,\n",
       " (3, 3): x_3_3,\n",
       " (3, 4): x_3_4,\n",
       " (4, 0): x_4_0,\n",
       " (4, 1): x_4_1,\n",
       " (4, 2): x_4_2,\n",
       " (4, 3): x_4_3,\n",
       " (4, 4): x_4_4,\n",
       " (5, 0): x_5_0,\n",
       " (5, 1): x_5_1,\n",
       " (5, 2): x_5_2,\n",
       " (5, 3): x_5_3,\n",
       " (5, 4): x_5_4,\n",
       " (6, 0): x_6_0,\n",
       " (6, 1): x_6_1,\n",
       " (6, 2): x_6_2,\n",
       " (6, 3): x_6_3,\n",
       " (6, 4): x_6_4,\n",
       " (7, 0): x_7_0,\n",
       " (7, 1): x_7_1,\n",
       " (7, 2): x_7_2,\n",
       " (7, 3): x_7_3,\n",
       " (7, 4): x_7_4,\n",
       " (8, 0): x_8_0,\n",
       " (8, 1): x_8_1,\n",
       " (8, 2): x_8_2,\n",
       " (8, 3): x_8_3,\n",
       " (8, 4): x_8_4,\n",
       " (9, 0): x_9_0,\n",
       " (9, 1): x_9_1,\n",
       " (9, 2): x_9_2,\n",
       " (9, 3): x_9_3,\n",
       " (9, 4): x_9_4,\n",
       " (10, 0): x_10_0,\n",
       " (10, 1): x_10_1,\n",
       " (10, 2): x_10_2,\n",
       " (10, 3): x_10_3,\n",
       " (10, 4): x_10_4,\n",
       " (11, 0): x_11_0,\n",
       " (11, 1): x_11_1,\n",
       " (11, 2): x_11_2,\n",
       " (11, 3): x_11_3,\n",
       " (11, 4): x_11_4,\n",
       " (12, 0): x_12_0,\n",
       " (12, 1): x_12_1,\n",
       " (12, 2): x_12_2,\n",
       " (12, 3): x_12_3,\n",
       " (12, 4): x_12_4,\n",
       " (13, 0): x_13_0,\n",
       " (13, 1): x_13_1,\n",
       " (13, 2): x_13_2,\n",
       " (13, 3): x_13_3,\n",
       " (13, 4): x_13_4,\n",
       " (14, 0): x_14_0,\n",
       " (14, 1): x_14_1,\n",
       " (14, 2): x_14_2,\n",
       " (14, 3): x_14_3,\n",
       " (14, 4): x_14_4}"
      ]
     },
     "execution_count": 9,
     "metadata": {},
     "output_type": "execute_result"
    }
   ],
   "source": [
    "x"
   ]
  },
  {
   "cell_type": "code",
   "execution_count": 10,
   "id": "exclusive-gather",
   "metadata": {},
   "outputs": [],
   "source": [
    "# Constraints\n",
    "# Each item can be in at most one bin.\n",
    "for i in data['items']:\n",
    "    solver.Add(sum(x[i, j] for j in data['bins']) <= 1)\n",
    "# The amount packed in each bin cannot exceed its capacity.\n",
    "for j in data['bins']:\n",
    "    solver.Add(\n",
    "        sum(x[(i, j)] * data['weights'][i]\n",
    "            for i in data['items']) <= data['bin_capacities'][j])"
   ]
  },
  {
   "cell_type": "code",
   "execution_count": 11,
   "id": "mobile-liabilities",
   "metadata": {},
   "outputs": [
    {
     "name": "stdout",
     "output_type": "stream",
     "text": [
      "Number of constraints = 20\n"
     ]
    }
   ],
   "source": [
    "print('Number of constraints =', solver.NumConstraints())"
   ]
  },
  {
   "cell_type": "code",
   "execution_count": 15,
   "id": "traditional-plaza",
   "metadata": {},
   "outputs": [],
   "source": [
    "# Objective\n",
    "objective = solver.Objective()\n",
    "\n",
    "for i in data['items']:\n",
    "    for j in data['bins']:\n",
    "        objective.SetCoefficient(x[(i, j)], data['values'][i])\n",
    "objective.SetMaximization()"
   ]
  },
  {
   "cell_type": "code",
   "execution_count": 16,
   "id": "right-bundle",
   "metadata": {},
   "outputs": [
    {
     "name": "stdout",
     "output_type": "stream",
     "text": [
      "Total packed value: 395.00000000000006\n",
      "Bin  0 \n",
      "\n",
      "Item 1 - weight: 30  value: 30\n",
      "Item 10 - weight: 30  value: 45\n",
      "Item 13 - weight: 36  value: 30\n",
      "Packed bin weight: 96\n",
      "Packed bin value: 105\n",
      "\n",
      "Bin  1 \n",
      "\n",
      "Item 7 - weight: 42  value: 40\n",
      "Item 12 - weight: 42  value: 20\n",
      "Packed bin weight: 84\n",
      "Packed bin value: 60\n",
      "\n",
      "Bin  2 \n",
      "\n",
      "Item 2 - weight: 42  value: 25\n",
      "Item 5 - weight: 48  value: 30\n",
      "Packed bin weight: 90\n",
      "Packed bin value: 55\n",
      "\n",
      "Bin  3 \n",
      "\n",
      "Item 3 - weight: 36  value: 50\n",
      "Item 8 - weight: 36  value: 30\n",
      "Item 9 - weight: 24  value: 35\n",
      "Packed bin weight: 96\n",
      "Packed bin value: 115\n",
      "\n",
      "Bin  4 \n",
      "\n",
      "Item 4 - weight: 36  value: 35\n",
      "Item 14 - weight: 36  value: 25\n",
      "Packed bin weight: 72\n",
      "Packed bin value: 60\n",
      "\n",
      "Total packed weight: 438\n"
     ]
    }
   ],
   "source": [
    "status = solver.Solve()\n",
    "if status == pywraplp.Solver.OPTIMAL:\n",
    "    print('Total packed value:', objective.Value())\n",
    "    total_weight = 0\n",
    "    for j in data['bins']:\n",
    "        bin_weight = 0\n",
    "        bin_value = 0\n",
    "        print('Bin ', j, '\\n')\n",
    "        for i in data['items']:\n",
    "            if x[i, j].solution_value() > 0:\n",
    "                print('Item', i, '- weight:', data['weights'][i], ' value:',\n",
    "                      data['values'][i])\n",
    "                bin_weight += data['weights'][i]\n",
    "                bin_value += data['values'][i]\n",
    "        print('Packed bin weight:', bin_weight)\n",
    "        print('Packed bin value:', bin_value)\n",
    "        print()\n",
    "        total_weight += bin_weight\n",
    "    print('Total packed weight:', total_weight)\n",
    "else:\n",
    "    print('The problem does not have an optimal solution.')"
   ]
  },
  {
   "cell_type": "code",
   "execution_count": null,
   "id": "precise-raleigh",
   "metadata": {},
   "outputs": [],
   "source": []
  }
 ],
 "metadata": {
  "kernelspec": {
   "display_name": "Python 3",
   "language": "python",
   "name": "python3"
  },
  "language_info": {
   "codemirror_mode": {
    "name": "ipython",
    "version": 3
   },
   "file_extension": ".py",
   "mimetype": "text/x-python",
   "name": "python",
   "nbconvert_exporter": "python",
   "pygments_lexer": "ipython3",
   "version": "3.7.9"
  }
 },
 "nbformat": 4,
 "nbformat_minor": 5
}
