{
 "cells": [
  {
   "cell_type": "markdown",
   "id": "4fecdef5",
   "metadata": {},
   "source": [
    "## Operations Reserach Club\n",
    "## Optimization with Google OR tools"
   ]
  },
  {
   "cell_type": "markdown",
   "id": "49049e5e",
   "metadata": {},
   "source": [
    "Please visit the following website for the tutorials and documentation. \n",
    "\n",
    "https://developers.google.com/optimization/introduction/python"
   ]
  },
  {
   "cell_type": "markdown",
   "id": "0095c2fc",
   "metadata": {},
   "source": [
    "We will maximize the usage of the operations room of a hospital. It has multiple op-rooms and multiple departments that are doing the operations in those op-rooms."
   ]
  },
  {
   "cell_type": "code",
   "execution_count": 1,
   "id": "5e4959a2",
   "metadata": {},
   "outputs": [],
   "source": [
    "from ortools.linear_solver import pywraplp"
   ]
  },
  {
   "cell_type": "code",
   "execution_count": 2,
   "id": "c24dc972",
   "metadata": {},
   "outputs": [],
   "source": [
    "def create_data_model():\n",
    "    \"\"\"Create the data for the example.\"\"\"\n",
    "    data = {}\n",
    "\n",
    "    w = [36, 36, 48, 42, 42, 36, 24, 30, 30, 42, 36, 36]\n",
    "    v = [50, 35, 30, 15, 40, 30, 35, 45, 10, 20, 30, 25]\n",
    "    d= [0,0,0,1,1,1,1,1,1,1,1,1]\n",
    "    l=list(range(12))\n",
    "    items=list(zip(l,w,v,d)) # item_no, weight, value, department\n",
    "    \n",
    "\n",
    "    data['items'] = items\n",
    "    \n",
    "    num_bins = 5\n",
    "    data['bins'] = list(range(num_bins))\n",
    "    data['bin_capacities'] = [100, 100, 80, 80, 50]\n",
    "    \n",
    "\n",
    "   \n",
    "    data['deps'] = list(set(list((x[-1]) for x in items )))\n",
    "    data['dep_capacities'] = [400, 600]\n",
    "    return data"
   ]
  },
  {
   "cell_type": "code",
   "execution_count": 3,
   "id": "3efe53b3",
   "metadata": {},
   "outputs": [],
   "source": [
    "# Create the mip solver with the SCIP backend.\n",
    "solver = pywraplp.Solver.CreateSolver('SCIP')"
   ]
  },
  {
   "cell_type": "code",
   "execution_count": 4,
   "id": "68611d87",
   "metadata": {},
   "outputs": [
    {
     "data": {
      "text/plain": [
       "{'items': [(0, 36, 50, 0),\n",
       "  (1, 36, 35, 0),\n",
       "  (2, 48, 30, 0),\n",
       "  (3, 42, 15, 1),\n",
       "  (4, 42, 40, 1),\n",
       "  (5, 36, 30, 1),\n",
       "  (6, 24, 35, 1),\n",
       "  (7, 30, 45, 1),\n",
       "  (8, 30, 10, 1),\n",
       "  (9, 42, 20, 1),\n",
       "  (10, 36, 30, 1),\n",
       "  (11, 36, 25, 1)],\n",
       " 'bins': [0, 1, 2, 3, 4],\n",
       " 'bin_capacities': [100, 100, 80, 80, 50],\n",
       " 'deps': [0, 1],\n",
       " 'dep_capacities': [400, 600]}"
      ]
     },
     "execution_count": 4,
     "metadata": {},
     "output_type": "execute_result"
    }
   ],
   "source": [
    "data=create_data_model()\n",
    "data\n",
    "   "
   ]
  },
  {
   "cell_type": "code",
   "execution_count": 5,
   "id": "6fcafa54",
   "metadata": {},
   "outputs": [],
   "source": [
    "# Variables\n",
    "# x[i, j] = 1 if item i is packed in bin j.\n",
    "x = {}\n",
    "for i in data['items']:\n",
    "    for j in data['bins']:\n",
    "        x[(i[3],i[0], j)] = solver.IntVar(0, 1, 'x_%i_%i_%i' % (i[3],i[0], j))"
   ]
  },
  {
   "cell_type": "code",
   "execution_count": 6,
   "id": "021ef76b",
   "metadata": {},
   "outputs": [
    {
     "data": {
      "text/plain": [
       "60"
      ]
     },
     "execution_count": 6,
     "metadata": {},
     "output_type": "execute_result"
    }
   ],
   "source": [
    "len(x)"
   ]
  },
  {
   "cell_type": "code",
   "execution_count": 7,
   "id": "a8712f03",
   "metadata": {},
   "outputs": [
    {
     "name": "stdout",
     "output_type": "stream",
     "text": [
      "Number of constraints = 12\n"
     ]
    }
   ],
   "source": [
    "# Constraints\n",
    "# Each item can be in at most one bin.\n",
    "for i in data['items']:\n",
    "    solver.Add(sum(x[(i[3],i[0], j)] for j in data['bins']) <= 1) # department_no, item_no, bin_no\n",
    "    \n",
    "\n",
    "print('Number of constraints =', solver.NumConstraints())"
   ]
  },
  {
   "cell_type": "code",
   "execution_count": 8,
   "id": "c0612a74",
   "metadata": {},
   "outputs": [
    {
     "name": "stdout",
     "output_type": "stream",
     "text": [
      "Number of constraints = 17\n"
     ]
    }
   ],
   "source": [
    "# The amount packed in each bin cannot exceed its capacity.\n",
    "for j in data['bins']:\n",
    "    solver.Add(\n",
    "        sum(x[(i[3],i[0], j)] * i[1]\n",
    "            for i in data['items']) <= data['bin_capacities'][j])\n",
    "    \n",
    "print('Number of constraints =', solver.NumConstraints())"
   ]
  },
  {
   "cell_type": "code",
   "execution_count": 9,
   "id": "be6fffc3",
   "metadata": {},
   "outputs": [],
   "source": [
    "# The dapertment cannot exceed its capacity\n",
    "\n",
    "#for k in data['deps']:\n",
    "for k in data['deps']:\n",
    "    total=0\n",
    "    for i in data['items'] :\n",
    "        for j in data['bins']:\n",
    "            if i[3]==k:\n",
    "                total+= x[(i[3],i[0], j)]*i[1]\n",
    "    solver.Add(total <= data['dep_capacities'][k])"
   ]
  },
  {
   "cell_type": "code",
   "execution_count": 10,
   "id": "92da9162",
   "metadata": {},
   "outputs": [
    {
     "name": "stdout",
     "output_type": "stream",
     "text": [
      "Number of constraints = 19\n"
     ]
    }
   ],
   "source": [
    "print('Number of constraints =', solver.NumConstraints())"
   ]
  },
  {
   "cell_type": "code",
   "execution_count": 11,
   "id": "05613def",
   "metadata": {},
   "outputs": [],
   "source": [
    "# Objective\n",
    "objective = solver.Objective()\n",
    "\n",
    "for i in data['items']:\n",
    "    for j in data['bins']:\n",
    "        objective.SetCoefficient(x[(i[3],i[0], j)], i[2])\n",
    "objective.SetMaximization()"
   ]
  },
  {
   "cell_type": "code",
   "execution_count": 12,
   "id": "5fad4d3e",
   "metadata": {},
   "outputs": [
    {
     "name": "stdout",
     "output_type": "stream",
     "text": [
      "Total packed value: 350.0\n",
      "Bin  0 \n",
      "\n",
      "Item 1 -department: 0 - weight: 36  value: 35\n",
      "Item 7 -department: 1 - weight: 30  value: 45\n",
      "Item 8 -department: 1 - weight: 30  value: 10\n",
      "Packed bin weight: 96\n",
      "Packed bin value: 90\n",
      "\n",
      "Bin  1 \n",
      "\n",
      "Item 0 -department: 0 - weight: 36  value: 50\n",
      "Item 6 -department: 1 - weight: 24  value: 35\n",
      "Item 10 -department: 1 - weight: 36  value: 30\n",
      "Packed bin weight: 96\n",
      "Packed bin value: 115\n",
      "\n",
      "Bin  2 \n",
      "\n",
      "Item 9 -department: 1 - weight: 42  value: 20\n",
      "Item 11 -department: 1 - weight: 36  value: 25\n",
      "Packed bin weight: 78\n",
      "Packed bin value: 45\n",
      "\n",
      "Bin  3 \n",
      "\n",
      "Item 4 -department: 1 - weight: 42  value: 40\n",
      "Item 5 -department: 1 - weight: 36  value: 30\n",
      "Packed bin weight: 78\n",
      "Packed bin value: 70\n",
      "\n",
      "Bin  4 \n",
      "\n",
      "Item 2 -department: 0 - weight: 48  value: 30\n",
      "Packed bin weight: 48\n",
      "Packed bin value: 30\n",
      "\n",
      "Total packed weight: 396\n"
     ]
    }
   ],
   "source": [
    "status = solver.Solve()\n",
    "if status == pywraplp.Solver.OPTIMAL:\n",
    "    print('Total packed value:', objective.Value())\n",
    "    total_weight = 0\n",
    "    for j in data['bins']:\n",
    "        bin_weight = 0\n",
    "        bin_value = 0\n",
    "        print('Bin ', j, '\\n')\n",
    "        for i in data['items']:\n",
    "            if x[(i[3],i[0], j)].solution_value() > 0:\n",
    "\n",
    "                print('Item', i[0],'-department:', i[3], '- weight:', i[1], ' value:', i[2])\n",
    "                bin_weight += i[1]\n",
    "                bin_value += i[2]\n",
    "        print('Packed bin weight:', bin_weight)\n",
    "        print('Packed bin value:', bin_value)\n",
    "        print()\n",
    "        total_weight += bin_weight\n",
    "    print('Total packed weight:', total_weight)\n",
    "else:\n",
    "    print('The problem does not have an optimal solution.')"
   ]
  },
  {
   "cell_type": "code",
   "execution_count": 16,
   "id": "2498802a",
   "metadata": {},
   "outputs": [
    {
     "name": "stdout",
     "output_type": "stream",
     "text": [
      "dep capacities [0, 1]\n",
      ".....\n",
      "Department 0 :total weight 120 \n",
      "\n",
      "Department 1 :total weight 276 \n",
      "\n"
     ]
    }
   ],
   "source": [
    "print('dep capacities', data['deps'])\n",
    "print('.....')\n",
    "for dep in data['deps']:\n",
    "    total_weight=0\n",
    "    #print()\n",
    "    for op_room in data['bins']:\n",
    "        for item,weight,value,department in data['items']:\n",
    "            if dep==department and x[(department,item,op_room)].solution_value()>0:\n",
    "    \n",
    "                total_weight+=weight\n",
    "    print(\"Department\", dep,\":total weight\", total_weight,\"\\n\")\n"
   ]
  },
  {
   "cell_type": "code",
   "execution_count": 14,
   "id": "005c86f3",
   "metadata": {},
   "outputs": [
    {
     "data": {
      "text/plain": [
       "{'items': [(0, 36, 50, 0),\n",
       "  (1, 36, 35, 0),\n",
       "  (2, 48, 30, 0),\n",
       "  (3, 42, 15, 1),\n",
       "  (4, 42, 40, 1),\n",
       "  (5, 36, 30, 1),\n",
       "  (6, 24, 35, 1),\n",
       "  (7, 30, 45, 1),\n",
       "  (8, 30, 10, 1),\n",
       "  (9, 42, 20, 1),\n",
       "  (10, 36, 30, 1),\n",
       "  (11, 36, 25, 1)],\n",
       " 'bins': [0, 1, 2, 3, 4],\n",
       " 'bin_capacities': [100, 100, 80, 80, 50],\n",
       " 'deps': [0, 1],\n",
       " 'dep_capacities': [400, 600]}"
      ]
     },
     "execution_count": 14,
     "metadata": {},
     "output_type": "execute_result"
    }
   ],
   "source": [
    "data"
   ]
  },
  {
   "cell_type": "code",
   "execution_count": null,
   "id": "e3391206",
   "metadata": {},
   "outputs": [],
   "source": []
  }
 ],
 "metadata": {
  "kernelspec": {
   "display_name": "Python 3",
   "language": "python",
   "name": "python3"
  },
  "language_info": {
   "codemirror_mode": {
    "name": "ipython",
    "version": 3
   },
   "file_extension": ".py",
   "mimetype": "text/x-python",
   "name": "python",
   "nbconvert_exporter": "python",
   "pygments_lexer": "ipython3",
   "version": "3.7.9"
  }
 },
 "nbformat": 4,
 "nbformat_minor": 5
}
