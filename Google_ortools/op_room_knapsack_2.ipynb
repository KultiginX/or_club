{
 "cells": [
  {
   "cell_type": "markdown",
   "id": "infectious-bonus",
   "metadata": {},
   "source": [
    "## Operations Reserach Club\n",
    "## Optimization with Google OR tools"
   ]
  },
  {
   "cell_type": "markdown",
   "id": "necessary-advantage",
   "metadata": {},
   "source": [
    "Please visit the following website for the tutorials and documentation. \n",
    "\n",
    "https://developers.google.com/optimization/introduction/python"
   ]
  },
  {
   "cell_type": "markdown",
   "id": "super-genealogy",
   "metadata": {},
   "source": [
    "We will maximize the usage of the operations room of a hospital. It has multiple op-rooms and multiple departments that are doing the operations in those op-rooms."
   ]
  },
  {
   "cell_type": "code",
   "execution_count": 1,
   "id": "suspected-train",
   "metadata": {},
   "outputs": [],
   "source": [
    "from ortools.linear_solver import pywraplp"
   ]
  },
  {
   "cell_type": "code",
   "execution_count": 2,
   "id": "devoted-leadership",
   "metadata": {},
   "outputs": [],
   "source": [
    "def create_data_model():\n",
    "    \"\"\"Create the data for the example.\"\"\"\n",
    "    data = {}\n",
    "    weights1 = [48, 30, 42]\n",
    "    weights2 = [36, 36, 48, 42, 42, 36, 24, 30, 30, 42, 36, 36]\n",
    "    values1 =  [10, 30, 25]\n",
    "    values2 =  [50, 35, 30, 15, 40, 30, 35, 45, 10, 20, 30, 25]\n",
    "    data['weights1'] = weights1\n",
    "    data['values1'] = values1\n",
    "    data['items1'] = list(range(len(weights1)))\n",
    "    data['num_items1'] = len(weights1)\n",
    "    \n",
    "    data['weights2'] = weights2\n",
    "    data['values2'] = values2\n",
    "    data['items2'] = list(range(len(weights2)))\n",
    "    data['num_items2'] = len(weights2)   \n",
    "    \n",
    "    num_bins = 5\n",
    "    data['bins'] = list(range(num_bins))\n",
    "    data['bin_capacities'] = [100, 100, 100, 100, 100]\n",
    "    return data"
   ]
  },
  {
   "cell_type": "code",
   "execution_count": 3,
   "id": "anticipated-carnival",
   "metadata": {},
   "outputs": [],
   "source": [
    "# Create the mip solver with the SCIP backend.\n",
    "solver = pywraplp.Solver.CreateSolver('SCIP')"
   ]
  },
  {
   "cell_type": "code",
   "execution_count": 4,
   "id": "blind-skiing",
   "metadata": {},
   "outputs": [
    {
     "data": {
      "text/plain": [
       "{'weights1': [48, 30, 42],\n",
       " 'values1': [10, 30, 25],\n",
       " 'items1': [0, 1, 2],\n",
       " 'num_items1': 3,\n",
       " 'weights2': [36, 36, 48, 42, 42, 36, 24, 30, 30, 42, 36, 36],\n",
       " 'values2': [50, 35, 30, 15, 40, 30, 35, 45, 10, 20, 30, 25],\n",
       " 'items2': [0, 1, 2, 3, 4, 5, 6, 7, 8, 9, 10, 11],\n",
       " 'num_items2': 12,\n",
       " 'bins': [0, 1, 2, 3, 4],\n",
       " 'bin_capacities': [100, 100, 100, 100, 100]}"
      ]
     },
     "execution_count": 4,
     "metadata": {},
     "output_type": "execute_result"
    }
   ],
   "source": [
    "data=create_data_model()\n",
    "data"
   ]
  },
  {
   "cell_type": "code",
   "execution_count": 5,
   "id": "architectural-complaint",
   "metadata": {},
   "outputs": [],
   "source": [
    "# Variables\n",
    "# x[i, j] = 1 if item i is packed in bin j.\n",
    "x1 = {}\n",
    "for i in data['items1']:\n",
    "    for j in data['bins']:\n",
    "        x1[(i, j)] = solver.IntVar(0, 1, 'x1_%i_%i' % (i, j))\n",
    "        \n"
   ]
  },
  {
   "cell_type": "raw",
   "id": "changed-punch",
   "metadata": {},
   "source": [
    "x1"
   ]
  },
  {
   "cell_type": "code",
   "execution_count": 8,
   "id": "above-palestine",
   "metadata": {},
   "outputs": [],
   "source": [
    "# Variables\n",
    "# x[i, j] = 1 if item i is packed in bin j.\n",
    "x2 = {}\n",
    "for i in data['items2']:\n",
    "    for j in data['bins']:\n",
    "        x2[(i, j)] = solver.IntVar(0, 1, 'x2_%i_%i' % (i, j))\n",
    "        \n"
   ]
  },
  {
   "cell_type": "raw",
   "id": "destroyed-registration",
   "metadata": {},
   "source": [
    "x2"
   ]
  },
  {
   "cell_type": "code",
   "execution_count": 10,
   "id": "balanced-summit",
   "metadata": {},
   "outputs": [],
   "source": [
    "# Constraints\n",
    "# Each item can be in at most one bin.\n",
    "for i in data['items1']:\n",
    "    solver.Add(sum(x[i, j] for j in data['bins']) <= 1)\n",
    "# The amount packed in each bin cannot exceed its capacity.\n",
    "for j in data['bins']:\n",
    "    solver.Add(\n",
    "        sum(x[(i, j)] * data['weights'][i]\n",
    "            for i in data['items']) <= data['bin_capacities'][j])"
   ]
  },
  {
   "cell_type": "code",
   "execution_count": 11,
   "id": "still-albuquerque",
   "metadata": {},
   "outputs": [
    {
     "name": "stdout",
     "output_type": "stream",
     "text": [
      "Number of constraints = 20\n"
     ]
    }
   ],
   "source": [
    "print('Number of constraints =', solver.NumConstraints())"
   ]
  },
  {
   "cell_type": "code",
   "execution_count": 15,
   "id": "interpreted-queue",
   "metadata": {},
   "outputs": [],
   "source": [
    "# Objective\n",
    "objective = solver.Objective()\n",
    "\n",
    "for i in data['items']:\n",
    "    for j in data['bins']:\n",
    "        objective.SetCoefficient(x[(i, j)], data['values'][i])\n",
    "objective.SetMaximization()"
   ]
  },
  {
   "cell_type": "code",
   "execution_count": 16,
   "id": "polished-african",
   "metadata": {},
   "outputs": [
    {
     "name": "stdout",
     "output_type": "stream",
     "text": [
      "Total packed value: 395.00000000000006\n",
      "Bin  0 \n",
      "\n",
      "Item 1 - weight: 30  value: 30\n",
      "Item 10 - weight: 30  value: 45\n",
      "Item 13 - weight: 36  value: 30\n",
      "Packed bin weight: 96\n",
      "Packed bin value: 105\n",
      "\n",
      "Bin  1 \n",
      "\n",
      "Item 7 - weight: 42  value: 40\n",
      "Item 12 - weight: 42  value: 20\n",
      "Packed bin weight: 84\n",
      "Packed bin value: 60\n",
      "\n",
      "Bin  2 \n",
      "\n",
      "Item 2 - weight: 42  value: 25\n",
      "Item 5 - weight: 48  value: 30\n",
      "Packed bin weight: 90\n",
      "Packed bin value: 55\n",
      "\n",
      "Bin  3 \n",
      "\n",
      "Item 3 - weight: 36  value: 50\n",
      "Item 8 - weight: 36  value: 30\n",
      "Item 9 - weight: 24  value: 35\n",
      "Packed bin weight: 96\n",
      "Packed bin value: 115\n",
      "\n",
      "Bin  4 \n",
      "\n",
      "Item 4 - weight: 36  value: 35\n",
      "Item 14 - weight: 36  value: 25\n",
      "Packed bin weight: 72\n",
      "Packed bin value: 60\n",
      "\n",
      "Total packed weight: 438\n"
     ]
    }
   ],
   "source": [
    "status = solver.Solve()\n",
    "if status == pywraplp.Solver.OPTIMAL:\n",
    "    print('Total packed value:', objective.Value())\n",
    "    total_weight = 0\n",
    "    for j in data['bins']:\n",
    "        bin_weight = 0\n",
    "        bin_value = 0\n",
    "        print('Bin ', j, '\\n')\n",
    "        for i in data['items']:\n",
    "            if x[i, j].solution_value() > 0:\n",
    "                print('Item', i, '- weight:', data['weights'][i], ' value:',\n",
    "                      data['values'][i])\n",
    "                bin_weight += data['weights'][i]\n",
    "                bin_value += data['values'][i]\n",
    "        print('Packed bin weight:', bin_weight)\n",
    "        print('Packed bin value:', bin_value)\n",
    "        print()\n",
    "        total_weight += bin_weight\n",
    "    print('Total packed weight:', total_weight)\n",
    "else:\n",
    "    print('The problem does not have an optimal solution.')"
   ]
  },
  {
   "cell_type": "code",
   "execution_count": null,
   "id": "alpine-sandwich",
   "metadata": {},
   "outputs": [],
   "source": []
  }
 ],
 "metadata": {
  "kernelspec": {
   "display_name": "Python 3",
   "language": "python",
   "name": "python3"
  },
  "language_info": {
   "codemirror_mode": {
    "name": "ipython",
    "version": 3
   },
   "file_extension": ".py",
   "mimetype": "text/x-python",
   "name": "python",
   "nbconvert_exporter": "python",
   "pygments_lexer": "ipython3",
   "version": "3.7.9"
  }
 },
 "nbformat": 4,
 "nbformat_minor": 5
}
