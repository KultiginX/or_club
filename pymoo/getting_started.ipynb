{
 "cells": [
  {
   "cell_type": "markdown",
   "metadata": {},
   "source": [
    "#### Vectorized solution"
   ]
  },
  {
   "cell_type": "code",
   "execution_count": 4,
   "metadata": {},
   "outputs": [],
   "source": [
    "import numpy as np\n",
    "from pymoo.model.problem import Problem\n",
    "\n",
    "class MyProblem(Problem):\n",
    "\n",
    "    def __init__(self):\n",
    "        super().__init__(n_var=2,\n",
    "                         n_obj=2,\n",
    "                         n_constr=2,\n",
    "                         xl=np.array([-2,-2]),\n",
    "                         xu=np.array([2,2]))\n",
    "\n",
    "    def _evaluate(self, X, out, *args, **kwargs):\n",
    "        f1 = X[:,0]**2 + X[:,1]**2\n",
    "        f2 = (X[:,0]-1)**2 + X[:,1]**2\n",
    "\n",
    "        g1 = 2*(X[:, 0]-0.1) * (X[:, 0]-0.9) / 0.18\n",
    "        g2 = - 20*(X[:, 0]-0.4) * (X[:, 0]-0.6) / 4.8\n",
    "\n",
    "        out[\"F\"] = np.column_stack([f1, f2])\n",
    "        out[\"G\"] = np.column_stack([g1, g2])\n",
    "\n",
    "\n",
    "vectorized_problem = MyProblem()"
   ]
  },
  {
   "cell_type": "markdown",
   "metadata": {},
   "source": [
    "#### Elementwise"
   ]
  },
  {
   "cell_type": "code",
   "execution_count": 6,
   "metadata": {},
   "outputs": [],
   "source": [
    "import numpy as np\n",
    "from pymoo.util.misc import stack\n",
    "from pymoo.model.problem import Problem\n",
    "\n",
    "class MyProblem(Problem):\n",
    "\n",
    "    def __init__(self):\n",
    "        super().__init__(n_var=2,\n",
    "                         n_obj=2,\n",
    "                         n_constr=2,\n",
    "                         xl=np.array([-2,-2]),\n",
    "                         xu=np.array([2,2]),\n",
    "                         elementwise_evaluation=True)\n",
    "\n",
    "    def _evaluate(self, x, out, *args, **kwargs):\n",
    "        f1 = x[0]**2 + x[1]**2\n",
    "        f2 = (x[0]-1)**2 + x[1]**2\n",
    "\n",
    "        g1 = 2*(x[0]-0.1) * (x[0]-0.9) / 0.18\n",
    "        g2 = - 20*(x[0]-0.4) * (x[0]-0.6) / 4.8\n",
    "\n",
    "        out[\"F\"] = [f1, f2]\n",
    "        out[\"G\"] = [g1, g2]\n",
    "\n",
    "\n",
    "elementwise_problem = MyProblem()"
   ]
  },
  {
   "cell_type": "markdown",
   "metadata": {},
   "source": [
    "#### By Function\n"
   ]
  },
  {
   "cell_type": "code",
   "execution_count": 7,
   "metadata": {},
   "outputs": [],
   "source": [
    "import numpy as np\n",
    "from pymoo.model.problem import FunctionalProblem\n",
    "\n",
    "objs = [\n",
    "    lambda x: x[0]**2 + x[1]**2,\n",
    "    lambda x: (x[0]-1)**2 + x[1]**2\n",
    "]\n",
    "\n",
    "constr_ieq = [\n",
    "    lambda x: 2*(x[0]-0.1) * (x[0]-0.9) / 0.18,\n",
    "    lambda x: - 20*(x[0]-0.4) * (x[0]-0.6) / 4.8\n",
    "]\n",
    "\n",
    "functional_problem = FunctionalProblem(2,\n",
    "                                       objs,\n",
    "                                       constr_ieq=constr_ieq,\n",
    "                                       xl=np.array([-2,-2]),\n",
    "                                       xu=np.array([2,2]))"
   ]
  },
  {
   "cell_type": "code",
   "execution_count": null,
   "metadata": {},
   "outputs": [],
   "source": []
  },
  {
   "cell_type": "code",
   "execution_count": 17,
   "metadata": {},
   "outputs": [],
   "source": [
    "from pymoo.util.misc import stack\n",
    "\n",
    "def func_pf(flatten=True, **kwargs):\n",
    "        f1_a = np.linspace(0.1**2, 0.4**2, 100)\n",
    "        f2_a = (np.sqrt(f1_a) - 1)**2\n",
    "\n",
    "        f1_b = np.linspace(0.6**2, 0.9**2, 100)\n",
    "        f2_b = (np.sqrt(f1_b) - 1)**2\n",
    "\n",
    "        a, b = np.column_stack([f1_a, f2_a]), np.column_stack([f1_b, f2_b])\n",
    "        return stack(a, b, flatten=flatten)\n",
    "\n",
    "def func_ps(flatten=True, **kwargs):\n",
    "        x1_a = np.linspace(0.1, 0.4, 50)\n",
    "        x1_b = np.linspace(0.6, 0.9, 50)\n",
    "        x2 = np.zeros(50)\n",
    "\n",
    "        a, b = np.column_stack([x1_a, x2]), np.column_stack([x1_b, x2])\n",
    "        return stack(a,b, flatten=flatten)"
   ]
  },
  {
   "cell_type": "code",
   "execution_count": 18,
   "metadata": {},
   "outputs": [],
   "source": [
    "import numpy as np\n",
    "from pymoo.util.misc import stack\n",
    "from pymoo.model.problem import Problem\n",
    "\n",
    "class MyTestProblem(MyProblem):\n",
    "\n",
    "    def _calc_pareto_front(self, *args, **kwargs):\n",
    "        return func_pf(**kwargs)\n",
    "\n",
    "    def _calc_pareto_set(self, *args, **kwargs):\n",
    "        return func_ps(**kwargs)\n",
    "\n",
    "test_problem = MyTestProblem()"
   ]
  },
  {
   "cell_type": "code",
   "execution_count": 19,
   "metadata": {},
   "outputs": [],
   "source": [
    "from pymoo.model.problem import FunctionalProblem\n",
    "\n",
    "\n",
    "functional_test_problem = FunctionalProblem(2,\n",
    "                                            objs,\n",
    "                                            constr_ieq=constr_ieq,\n",
    "                                            xl=-2,\n",
    "                                            xu=2,\n",
    "                                            func_pf=func_pf,\n",
    "                                            func_ps=func_ps\n",
    "                                            )"
   ]
  },
  {
   "cell_type": "code",
   "execution_count": 20,
   "metadata": {},
   "outputs": [],
   "source": [
    "problem = test_problem"
   ]
  },
  {
   "cell_type": "code",
   "execution_count": 21,
   "metadata": {},
   "outputs": [],
   "source": [
    "from pymoo.factory import get_problem\n",
    "zdt1 = get_problem(\"zdt1\")"
   ]
  },
  {
   "cell_type": "code",
   "execution_count": 22,
   "metadata": {},
   "outputs": [],
   "source": [
    "from pymoo.algorithms.nsga2 import NSGA2\n",
    "from pymoo.factory import get_sampling, get_crossover, get_mutation\n",
    "\n",
    "algorithm = NSGA2(\n",
    "    pop_size=40,\n",
    "    n_offsprings=10,\n",
    "    sampling=get_sampling(\"real_random\"),\n",
    "    crossover=get_crossover(\"real_sbx\", prob=0.9, eta=15),\n",
    "    mutation=get_mutation(\"real_pm\", eta=20),\n",
    "    eliminate_duplicates=True\n",
    ")"
   ]
  },
  {
   "cell_type": "code",
   "execution_count": 28,
   "metadata": {},
   "outputs": [],
   "source": [
    "from pymoo.factory import get_termination\n",
    "\n",
    "termination = get_termination(\"n_gen\", 40)"
   ]
  },
  {
   "cell_type": "code",
   "execution_count": 29,
   "metadata": {},
   "outputs": [
    {
     "name": "stdout",
     "output_type": "stream",
     "text": [
      "==========================================================================================\n",
      "n_gen |  n_eval |   cv (min)   |   cv (avg)   |     igd      |      gd      |      hv     \n",
      "==========================================================================================\n",
      "    1 |      40 |  0.00000E+00 |  2.36399E+01 |  0.355456661 |  0.005362269 |  0.259340233\n",
      "    2 |      50 |  0.00000E+00 |  1.15486E+01 |  0.355456661 |  0.005362269 |  0.259340233\n",
      "    3 |      60 |  0.00000E+00 |  5.277918607 |  0.355456661 |  0.005362269 |  0.259340233\n",
      "    4 |      70 |  0.00000E+00 |  2.406068542 |  0.336177786 |  0.003791374 |  0.267747228\n",
      "    5 |      80 |  0.00000E+00 |  0.908316880 |  0.146187673 |  0.030825699 |  0.326821728\n",
      "    6 |      90 |  0.00000E+00 |  0.264746300 |  0.146187673 |  0.030825699 |  0.326821728\n",
      "    7 |     100 |  0.00000E+00 |  0.054063822 |  0.127166639 |  0.048434536 |  0.326821728\n",
      "    8 |     110 |  0.00000E+00 |  0.003060876 |  0.116635438 |  0.040756917 |  0.333328216\n",
      "    9 |     120 |  0.00000E+00 |  0.00000E+00 |  0.114104403 |  0.033780540 |  0.333467251\n",
      "   10 |     130 |  0.00000E+00 |  0.00000E+00 |  0.113905849 |  0.079757906 |  0.336916611\n",
      "   11 |     140 |  0.00000E+00 |  0.00000E+00 |  0.108326595 |  0.061746460 |  0.350973236\n",
      "   12 |     150 |  0.00000E+00 |  0.00000E+00 |  0.075994278 |  0.028407765 |  0.409709713\n",
      "   13 |     160 |  0.00000E+00 |  0.00000E+00 |  0.075900587 |  0.028006615 |  0.410363369\n",
      "   14 |     170 |  0.00000E+00 |  0.00000E+00 |  0.060504000 |  0.025567286 |  0.411662871\n",
      "   15 |     180 |  0.00000E+00 |  0.00000E+00 |  0.049446911 |  0.016289051 |  0.418530080\n",
      "   16 |     190 |  0.00000E+00 |  0.00000E+00 |  0.045458331 |  0.011383437 |  0.420489384\n",
      "   17 |     200 |  0.00000E+00 |  0.00000E+00 |  0.039469853 |  0.009911055 |  0.430486842\n",
      "   18 |     210 |  0.00000E+00 |  0.00000E+00 |  0.029430084 |  0.005849149 |  0.436066481\n",
      "   19 |     220 |  0.00000E+00 |  0.00000E+00 |  0.026914825 |  0.006440139 |  0.438071834\n",
      "   20 |     230 |  0.00000E+00 |  0.00000E+00 |  0.025819848 |  0.006597745 |  0.439045983\n",
      "   21 |     240 |  0.00000E+00 |  0.00000E+00 |  0.025538102 |  0.006092177 |  0.439313321\n",
      "   22 |     250 |  0.00000E+00 |  0.00000E+00 |  0.025430023 |  0.005831189 |  0.439357583\n",
      "   23 |     260 |  0.00000E+00 |  0.00000E+00 |  0.022907750 |  0.005325638 |  0.441118548\n",
      "   24 |     270 |  0.00000E+00 |  0.00000E+00 |  0.020729474 |  0.005408909 |  0.444667855\n",
      "   25 |     280 |  0.00000E+00 |  0.00000E+00 |  0.020685726 |  0.004700076 |  0.447352036\n",
      "   26 |     290 |  0.00000E+00 |  0.00000E+00 |  0.018021642 |  0.004673768 |  0.449131574\n",
      "   27 |     300 |  0.00000E+00 |  0.00000E+00 |  0.017734569 |  0.004981929 |  0.452104699\n",
      "   28 |     310 |  0.00000E+00 |  0.00000E+00 |  0.017256071 |  0.004906941 |  0.452453391\n",
      "   29 |     320 |  0.00000E+00 |  0.00000E+00 |  0.017099845 |  0.004821622 |  0.452586422\n",
      "   30 |     330 |  0.00000E+00 |  0.00000E+00 |  0.015604763 |  0.004715009 |  0.454343077\n",
      "   31 |     340 |  0.00000E+00 |  0.00000E+00 |  0.015494765 |  0.004509278 |  0.454689229\n",
      "   32 |     350 |  0.00000E+00 |  0.00000E+00 |  0.015494765 |  0.004509278 |  0.454689229\n",
      "   33 |     360 |  0.00000E+00 |  0.00000E+00 |  0.013269463 |  0.002882294 |  0.456133797\n",
      "   34 |     370 |  0.00000E+00 |  0.00000E+00 |  0.012326693 |  0.002872865 |  0.456726256\n",
      "   35 |     380 |  0.00000E+00 |  0.00000E+00 |  0.011929203 |  0.002718091 |  0.456859586\n",
      "   36 |     390 |  0.00000E+00 |  0.00000E+00 |  0.011452732 |  0.002668863 |  0.459103818\n",
      "   37 |     400 |  0.00000E+00 |  0.00000E+00 |  0.011187256 |  0.002467009 |  0.459278838\n",
      "   38 |     410 |  0.00000E+00 |  0.00000E+00 |  0.010961294 |  0.002442439 |  0.459731947\n",
      "   39 |     420 |  0.00000E+00 |  0.00000E+00 |  0.010982275 |  0.002847599 |  0.459564223\n",
      "   40 |     430 |  0.00000E+00 |  0.00000E+00 |  0.010485987 |  0.002833493 |  0.460033718\n"
     ]
    }
   ],
   "source": [
    "from pymoo.optimize import minimize\n",
    "\n",
    "res = minimize(problem,\n",
    "               algorithm,\n",
    "               termination,\n",
    "               seed=1,\n",
    "               save_history=True,\n",
    "               verbose=True)"
   ]
  },
  {
   "cell_type": "code",
   "execution_count": 25,
   "metadata": {},
   "outputs": [
    {
     "name": "stdout",
     "output_type": "stream",
     "text": [
      "gen: 1 n_nds: 1 constr: 0.0 ideal: [0.43280594 0.12244878]\n",
      "gen: 2 n_nds: 1 constr: 0.0 ideal: [0.43280594 0.12244878]\n",
      "gen: 3 n_nds: 1 constr: 0.0 ideal: [0.43280594 0.12244878]\n",
      "gen: 4 n_nds: 2 constr: 0.0 ideal: [0.43280594 0.09718357]\n",
      "gen: 5 n_nds: 3 constr: 0.0 ideal: [0.13614243 0.09718357]\n",
      "gen: 6 n_nds: 3 constr: 0.0 ideal: [0.13614243 0.09718357]\n",
      "gen: 7 n_nds: 4 constr: 0.0 ideal: [0.13614243 0.08467286]\n",
      "gen: 8 n_nds: 5 constr: 0.0 ideal: [0.02736815 0.08467286]\n",
      "gen: 9 n_nds: 6 constr: 0.0 ideal: [0.02347838 0.08420915]\n",
      "gen: 10 n_nds: 6 constr: 0.0 ideal: [0.02317765 0.08420915]\n",
      "gen: 11 n_nds: 7 constr: 0.0 ideal: [0.02317765 0.08420915]\n",
      "gen: 12 n_nds: 7 constr: 0.0 ideal: [0.02317765 0.08420915]\n",
      "gen: 13 n_nds: 7 constr: 0.0 ideal: [0.02317765 0.08420915]\n",
      "gen: 14 n_nds: 9 constr: 0.0 ideal: [0.02317765 0.05440163]\n",
      "gen: 15 n_nds: 10 constr: 0.0 ideal: [0.02317765 0.05440163]\n",
      "gen: 16 n_nds: 11 constr: 0.0 ideal: [0.02317765 0.0166032 ]\n",
      "gen: 17 n_nds: 14 constr: 0.0 ideal: [0.02317765 0.0166032 ]\n",
      "gen: 18 n_nds: 16 constr: 0.0 ideal: [0.02150969 0.0166032 ]\n",
      "gen: 19 n_nds: 18 constr: 0.0 ideal: [0.02150969 0.0166032 ]\n",
      "gen: 20 n_nds: 20 constr: 0.0 ideal: [0.02150969 0.0166032 ]\n",
      "gen: 21 n_nds: 22 constr: 0.0 ideal: [0.02150969 0.0166032 ]\n",
      "gen: 22 n_nds: 24 constr: 0.0 ideal: [0.02150969 0.01627147]\n",
      "gen: 23 n_nds: 27 constr: 0.0 ideal: [0.02150969 0.01320869]\n",
      "gen: 24 n_nds: 28 constr: 0.0 ideal: [0.02006779 0.01320869]\n",
      "gen: 25 n_nds: 28 constr: 0.0 ideal: [0.02006779 0.01320869]\n",
      "gen: 26 n_nds: 30 constr: 0.0 ideal: [0.02006779 0.01320869]\n",
      "gen: 27 n_nds: 33 constr: 0.0 ideal: [0.01896005 0.01320869]\n",
      "gen: 28 n_nds: 36 constr: 0.0 ideal: [0.01896005 0.01320869]\n",
      "gen: 29 n_nds: 37 constr: 0.0 ideal: [0.01896005 0.01320869]\n",
      "gen: 30 n_nds: 38 constr: 0.0 ideal: [0.01896005 0.01320869]\n",
      "gen: 31 n_nds: 40 constr: 0.0 ideal: [0.01896005 0.01200888]\n",
      "gen: 32 n_nds: 40 constr: 0.0 ideal: [0.01896005 0.01200888]\n",
      "gen: 33 n_nds: 40 constr: 0.0 ideal: [0.01896005 0.01200888]\n",
      "gen: 34 n_nds: 40 constr: 0.0 ideal: [0.01805568 0.01200888]\n",
      "gen: 35 n_nds: 40 constr: 0.0 ideal: [0.01805568 0.01200888]\n",
      "gen: 36 n_nds: 40 constr: 0.0 ideal: [0.0163747  0.01200888]\n",
      "gen: 37 n_nds: 40 constr: 0.0 ideal: [0.0163747  0.01180915]\n",
      "gen: 38 n_nds: 40 constr: 0.0 ideal: [0.0163747  0.01180915]\n",
      "gen: 39 n_nds: 40 constr: 0.0 ideal: [0.0163747  0.01180915]\n",
      "gen: 40 n_nds: 40 constr: 0.0 ideal: [0.0163747  0.01180915]\n"
     ]
    }
   ],
   "source": [
    "import copy\n",
    "\n",
    "# perform a copy of the algorithm to ensure reproducibility\n",
    "obj = copy.deepcopy(algorithm)\n",
    "\n",
    "# let the algorithm know what problem we are intending to solve and provide other attributes\n",
    "obj.setup(problem, termination=termination, seed=1)\n",
    "\n",
    "# until the termination criterion has not been met\n",
    "while obj.has_next():\n",
    "\n",
    "    # perform an iteration of the algorithm\n",
    "    obj.next()\n",
    "\n",
    "    # access the algorithm to print some intermediate outputs\n",
    "    print(f\"gen: {obj.n_gen} n_nds: {len(obj.opt)} constr: {obj.opt.get('CV').min()} ideal: {obj.opt.get('F').min(axis=0)}\")\n",
    "\n",
    "# finally obtain the result object\n",
    "result = obj.result()"
   ]
  },
  {
   "cell_type": "code",
   "execution_count": 30,
   "metadata": {},
   "outputs": [
    {
     "data": {
      "text/plain": [
       "<pymoo.visualization.scatter.Scatter at 0x7f7fc3731a10>"
      ]
     },
     "execution_count": 30,
     "metadata": {},
     "output_type": "execute_result"
    },
    {
     "data": {
      "image/png": "[encoded data removed]",
      "text/plain": [
       "<Figure size 576x432 with 1 Axes>"
      ]
     },
     "metadata": {
      "needs_background": "light"
     },
     "output_type": "display_data"
    }
   ],
   "source": [
    "from pymoo.visualization.scatter import Scatter\n",
    "\n",
    "# get the pareto-set and pareto-front for plotting\n",
    "ps = problem.pareto_set(use_cache=False, flatten=False)\n",
    "pf = problem.pareto_front(use_cache=False, flatten=False)\n",
    "\n",
    "# Design Space\n",
    "plot = Scatter(title = \"Design Space\", axis_labels=\"x\")\n",
    "plot.add(res.X, s=30, facecolors='none', edgecolors='r')\n",
    "if ps is not None:\n",
    "    plot.add(ps, plot_type=\"line\", color=\"black\", alpha=0.7)\n",
    "plot.do()\n",
    "plot.apply(lambda ax: ax.set_xlim(-0.5, 1.5))\n",
    "plot.apply(lambda ax: ax.set_ylim(-2, 2))\n",
    "plot.show()\n",
    "\n",
    "# Objective Space\n",
    "plot = Scatter(title = \"Objective Space\")\n",
    "plot.add(res.F)\n",
    "if pf is not None:\n",
    "    plot.add(pf, plot_type=\"line\", color=\"black\", alpha=0.7)\n",
    "plot.show()"
   ]
  },
  {
   "cell_type": "code",
   "execution_count": null,
   "metadata": {},
   "outputs": [],
   "source": []
  }
 ],
 "metadata": {
  "kernelspec": {
   "display_name": "Python 3",
   "language": "python",
   "name": "python3"
  },
  "language_info": {
   "codemirror_mode": {
    "name": "ipython",
    "version": 3
   },
   "file_extension": ".py",
   "mimetype": "text/x-python",
   "name": "python",
   "nbconvert_exporter": "python",
   "pygments_lexer": "ipython3",
   "version": "3.7.7"
  }
 },
 "nbformat": 4,
 "nbformat_minor": 5
}
