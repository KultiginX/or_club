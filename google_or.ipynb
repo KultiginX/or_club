{
 "cells": [
  {
   "cell_type": "markdown",
   "id": "interior-broadcasting",
   "metadata": {},
   "source": [
    "## Operations Reserach Club\n",
    "## Optimization with Google OR tools"
   ]
  },
  {
   "cell_type": "markdown",
   "id": "expressed-spyware",
   "metadata": {},
   "source": [
    "Please visit the following website for the tutorials and documentation. \n",
    "\n",
    "https://developers.google.com/optimization/introduction/python"
   ]
  },
  {
   "cell_type": "markdown",
   "id": "extended-ireland",
   "metadata": {},
   "source": [
    "Maximize 30x + 20y subject to the following constraints:\n",
    "\n",
    "x\t>=\t0\n",
    "\n",
    "y\t>=\t0\n",
    "\n",
    "2x + y\t≤\t10\n",
    "\n",
    "x + 2y\t≤\t10"
   ]
  },
  {
   "cell_type": "code",
   "execution_count": 7,
   "id": "impossible-console",
   "metadata": {},
   "outputs": [],
   "source": [
    "# import libraries\n",
    "from ortools.linear_solver import pywraplp "
   ]
  },
  {
   "cell_type": "code",
   "execution_count": 8,
   "id": "strategic-crown",
   "metadata": {},
   "outputs": [],
   "source": [
    "# Create the linear solver with the GLOP backend.\n",
    "solver = pywraplp.Solver.CreateSolver('GLOP')"
   ]
  },
  {
   "cell_type": "code",
   "execution_count": 9,
   "id": "medical-progressive",
   "metadata": {},
   "outputs": [
    {
     "name": "stdout",
     "output_type": "stream",
     "text": [
      "Number of variables = 2\n"
     ]
    }
   ],
   "source": [
    "# Create the variables x and y.\n",
    "x = solver.NumVar(0,solver.infinity(),  'x')\n",
    "y = solver.NumVar(0, solver.infinity(), 'y')\n",
    "\n",
    "print('Number of variables =', solver.NumVariables())"
   ]
  },
  {
   "cell_type": "code",
   "execution_count": 10,
   "id": "aboriginal-oxide",
   "metadata": {},
   "outputs": [
    {
     "name": "stdout",
     "output_type": "stream",
     "text": [
      "Number of constraints = 2\n"
     ]
    }
   ],
   "source": [
    "# Create linear constraints, \n",
    "#contraint1\n",
    "ct1 = solver.Constraint(-solver.infinity(), 10, 'ct1')\n",
    "ct1.SetCoefficient(x, 2)\n",
    "ct1.SetCoefficient(y, 1)\n",
    "\n",
    "#contraint2\n",
    "ct2 = solver.Constraint(-solver.infinity(), 10, 'ct2')\n",
    "ct2.SetCoefficient(x, 1)\n",
    "ct2.SetCoefficient(y, 2)\n",
    "\n",
    "\n",
    "\n",
    "print('Number of constraints =', solver.NumConstraints())"
   ]
  },
  {
   "cell_type": "code",
   "execution_count": 11,
   "id": "advisory-making",
   "metadata": {},
   "outputs": [],
   "source": [
    "# Create the objective function, 30 * x + 20 * y.\n",
    "objective = solver.Objective()\n",
    "objective.SetCoefficient(x, 30)\n",
    "objective.SetCoefficient(y, 20)\n",
    "objective.SetMaximization()"
   ]
  },
  {
   "cell_type": "code",
   "execution_count": 12,
   "id": "musical-people",
   "metadata": {},
   "outputs": [
    {
     "name": "stdout",
     "output_type": "stream",
     "text": [
      "Solution:\n",
      "Objective value = 166.66666666666666\n",
      "x = 3.333333333333333\n",
      "y = 3.3333333333333335\n"
     ]
    }
   ],
   "source": [
    "solver.Solve()\n",
    "print('Solution:')\n",
    "print('Objective value =', objective.Value())\n",
    "print('x =', x.solution_value())\n",
    "print('y =', y.solution_value())"
   ]
  },
  {
   "cell_type": "code",
   "execution_count": null,
   "id": "therapeutic-fourth",
   "metadata": {},
   "outputs": [],
   "source": []
  }
 ],
 "metadata": {
  "kernelspec": {
   "display_name": "Python 3",
   "language": "python",
   "name": "python3"
  },
  "language_info": {
   "codemirror_mode": {
    "name": "ipython",
    "version": 3
   },
   "file_extension": ".py",
   "mimetype": "text/x-python",
   "name": "python",
   "nbconvert_exporter": "python",
   "pygments_lexer": "ipython3",
   "version": "3.7.9"
  }
 },
 "nbformat": 4,
 "nbformat_minor": 5
}
