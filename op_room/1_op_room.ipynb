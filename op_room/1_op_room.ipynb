{
 "cells": [
  {
   "cell_type": "markdown",
   "id": "b0fa8293",
   "metadata": {},
   "source": [
    "# Operations Room optimization\n",
    "## Importing data"
   ]
  },
  {
   "cell_type": "code",
   "execution_count": 2,
   "id": "31e040df",
   "metadata": {},
   "outputs": [
    {
     "name": "stdout",
     "output_type": "stream",
     "text": [
      "/Users/kultiginbozdemir/Documents/GitHub/or_club/op_room\n"
     ]
    }
   ],
   "source": [
    "# Configure plotting in Jupyter\n",
    "from matplotlib import pyplot as plt\n",
    "%matplotlib inline\n",
    "plt.rcParams.update({\n",
    "    'figure.figsize': (7.5, 7.5)})\n",
    "# Seed random number generator\n",
    "from numpy import random as nprand\n",
    "seed = hash(\"Ops-room in Python\") % 2**32\n",
    "nprand.seed(seed)\n",
    "import datetime as dt\n",
    "\n",
    "import pandas as pd\n",
    "from pandas import ExcelWriter\n",
    "from pandas import ExcelFile\n",
    "from pathlib import Path\n",
    "\n",
    "import os\n",
    "directory=os.getcwd()\n",
    "print(directory)"
   ]
  },
  {
   "cell_type": "code",
   "execution_count": 46,
   "id": "f1fa48d4",
   "metadata": {},
   "outputs": [],
   "source": [
    "# read excel file\n",
    "filename='./data/OP-Benchmarking_Datenerfassung_2020_hsrw.xlsm'\n",
    "xls1 = pd.ExcelFile(filename)\n",
    "\n",
    "df_ops = pd.read_excel(xls1, skiprows=7, sheet_name='Operationen',skipfooter=0)\n",
    "df_op = pd.read_excel(xls1, skiprows=4, sheet_name='Saal.Nutzung',skipfooter=0)\n",
    "df_dep = pd.read_excel(xls1, skiprows=4, sheet_name='Abteilungen',skipfooter=0)"
   ]
  },
  {
   "cell_type": "markdown",
   "id": "266e72cc",
   "metadata": {},
   "source": [
    "### Operation Rooms Capacities"
   ]
  },
  {
   "cell_type": "code",
   "execution_count": 47,
   "id": "945a2493",
   "metadata": {},
   "outputs": [],
   "source": [
    "\n",
    "d_df=df_op.copy()\n",
    "d_df.columns\n",
    "\n",
    "d_df=d_df[['gültig von','gültig bis','Saal-ID', 'Saalnutzung','Saalnutzung.1','Saalnutzung.2','Saalnutzung.3', 'Saalnutzung.4']]\n",
    "\n",
    "#df_dep.drop(0, inplace=True)\n",
    "d_df=d_df[1:14].fillna(0)\n",
    "d_df.rename(columns={'gültig von':'from','gültig bis':'until','Saal-ID':'hall', 'Saalnutzung':'Monday','Saalnutzung.1':'Tuesday','Saalnutzung.2':'Wednesday','Saalnutzung.3':'Thursday', 'Saalnutzung.4':'Friday'}, inplace=True)\n",
    "\n",
    "d1_df=d_df[0:8]\n",
    "\n",
    "d2_df=d_df.loc[[1,2,9,4,10,11,12,13]]\n",
    "\n",
    "\n",
    "\n",
    "Jul=d2_df.set_index('hall')\n",
    "\n",
    "Jul=Jul.iloc[:,[2,3,4,5,6]].astype(int)\n",
    "\n",
    "Jan=d1_df.set_index('hall')\n",
    "Jan=Jan.iloc[:,[2,3,4,5,6]].astype(int)\n"
   ]
  },
  {
   "cell_type": "code",
   "execution_count": 48,
   "id": "2a5505f8",
   "metadata": {},
   "outputs": [
    {
     "data": {
      "text/plain": [
       "3313"
      ]
     },
     "execution_count": 48,
     "metadata": {},
     "output_type": "execute_result"
    }
   ],
   "source": [
    "Jan['Friday'].sum()"
   ]
  },
  {
   "cell_type": "markdown",
   "id": "ec95b0e0",
   "metadata": {},
   "source": [
    "### Department Capacities"
   ]
  },
  {
   "cell_type": "code",
   "execution_count": 49,
   "id": "929274c6",
   "metadata": {},
   "outputs": [
    {
     "name": "stderr",
     "output_type": "stream",
     "text": [
      "/Users/kultiginbozdemir/opt/anaconda3/envs/statistics/lib/python3.7/site-packages/ipykernel_launcher.py:5: FutureWarning: The default value of regex will change from True to False in a future version. In addition, single character regular expressions will*not* be treated as literal strings when regex=True.\n",
      "  \"\"\"\n"
     ]
    },
    {
     "data": {
      "text/html": [
       "<div>\n",
       "<style scoped>\n",
       "    .dataframe tbody tr th:only-of-type {\n",
       "        vertical-align: middle;\n",
       "    }\n",
       "\n",
       "    .dataframe tbody tr th {\n",
       "        vertical-align: top;\n",
       "    }\n",
       "\n",
       "    .dataframe thead th {\n",
       "        text-align: right;\n",
       "    }\n",
       "</style>\n",
       "<table border=\"1\" class=\"dataframe\">\n",
       "  <thead>\n",
       "    <tr style=\"text-align: right;\">\n",
       "      <th></th>\n",
       "      <th>Monday</th>\n",
       "      <th>Tuesday</th>\n",
       "      <th>Wednesday</th>\n",
       "      <th>Thursday</th>\n",
       "      <th>Friday</th>\n",
       "    </tr>\n",
       "    <tr>\n",
       "      <th>dep_id</th>\n",
       "      <th></th>\n",
       "      <th></th>\n",
       "      <th></th>\n",
       "      <th></th>\n",
       "      <th></th>\n",
       "    </tr>\n",
       "  </thead>\n",
       "  <tbody>\n",
       "    <tr>\n",
       "      <th>CH1</th>\n",
       "      <td>667</td>\n",
       "      <td>660</td>\n",
       "      <td>555</td>\n",
       "      <td>555</td>\n",
       "      <td>600</td>\n",
       "    </tr>\n",
       "    <tr>\n",
       "      <th>CH2</th>\n",
       "      <td>330</td>\n",
       "      <td>435</td>\n",
       "      <td>330</td>\n",
       "      <td>382</td>\n",
       "      <td>322</td>\n",
       "    </tr>\n",
       "    <tr>\n",
       "      <th>CH3</th>\n",
       "      <td>600</td>\n",
       "      <td>435</td>\n",
       "      <td>435</td>\n",
       "      <td>435</td>\n",
       "      <td>540</td>\n",
       "    </tr>\n",
       "    <tr>\n",
       "      <th>HT</th>\n",
       "      <td>260</td>\n",
       "      <td>200</td>\n",
       "      <td>260</td>\n",
       "      <td>200</td>\n",
       "      <td>100</td>\n",
       "    </tr>\n",
       "    <tr>\n",
       "      <th>IM1</th>\n",
       "      <td>0</td>\n",
       "      <td>0</td>\n",
       "      <td>0</td>\n",
       "      <td>0</td>\n",
       "      <td>0</td>\n",
       "    </tr>\n",
       "    <tr>\n",
       "      <th>IM2</th>\n",
       "      <td>825</td>\n",
       "      <td>825</td>\n",
       "      <td>825</td>\n",
       "      <td>825</td>\n",
       "      <td>825</td>\n",
       "    </tr>\n",
       "    <tr>\n",
       "      <th>OR1</th>\n",
       "      <td>930</td>\n",
       "      <td>555</td>\n",
       "      <td>825</td>\n",
       "      <td>495</td>\n",
       "      <td>495</td>\n",
       "    </tr>\n",
       "    <tr>\n",
       "      <th>OR2</th>\n",
       "      <td>0</td>\n",
       "      <td>0</td>\n",
       "      <td>0</td>\n",
       "      <td>0</td>\n",
       "      <td>0</td>\n",
       "    </tr>\n",
       "  </tbody>\n",
       "</table>\n",
       "</div>"
      ],
      "text/plain": [
       "        Monday  Tuesday  Wednesday  Thursday  Friday\n",
       "dep_id                                              \n",
       "CH1        667      660        555       555     600\n",
       "CH2        330      435        330       382     322\n",
       "CH3        600      435        435       435     540\n",
       "HT         260      200        260       200     100\n",
       "IM1          0        0          0         0       0\n",
       "IM2        825      825        825       825     825\n",
       "OR1        930      555        825       495     495\n",
       "OR2          0        0          0         0       0"
      ]
     },
     "execution_count": 49,
     "metadata": {},
     "output_type": "execute_result"
    }
   ],
   "source": [
    "\n",
    "ddf=df_dep.copy()\n",
    "ddf.columns\n",
    "ddf.columns=ddf.columns.str.replace(' ','',regex=True)\n",
    "ddf.columns=ddf.columns.str.replace(\"\\n\",\"\")\n",
    "ddf.columns=ddf.columns.str.replace(\".\",\"\")\n",
    "ddf=ddf[['Abteilungs-ID','Montag','Dienstag','Mittwoch','Donnerstag','Freitag',]]\n",
    "ddf.head(10)\n",
    "#df_dep.drop(0, inplace=True)\n",
    "ddf=ddf[1:9].fillna(0)\n",
    "ddf.rename(columns={'Abteilungs-ID':'dep_id', 'Montag':'Monday', 'Dienstag':'Tuesday', 'Mittwoch':'Wednesday', 'Donnerstag':'Thursday','Freitag':'Friday'}, inplace=True)\n",
    "\n",
    "\n",
    "\n",
    "\n",
    "\n",
    "ddf=ddf.set_index('dep_id')\n",
    "\n",
    "\n",
    "ddf=ddf.iloc[:,[0,1,2,3,4]].astype(int)\n",
    "ddf.head(10)\n"
   ]
  },
  {
   "cell_type": "code",
   "execution_count": 50,
   "id": "2df5d976",
   "metadata": {},
   "outputs": [
    {
     "data": {
      "text/plain": [
       "2882"
      ]
     },
     "execution_count": 50,
     "metadata": {},
     "output_type": "execute_result"
    }
   ],
   "source": [
    "ddf['Friday'].sum()"
   ]
  },
  {
   "cell_type": "markdown",
   "id": "5f37dc93",
   "metadata": {},
   "source": [
    "## Slice the dataframe"
   ]
  },
  {
   "cell_type": "code",
   "execution_count": 51,
   "id": "32bd8754",
   "metadata": {},
   "outputs": [
    {
     "name": "stdout",
     "output_type": "stream",
     "text": [
      "Index(['Prü-fung', 'Fallnummer_(analog_zu_§_21-Daten)', 'Datum', 'Saal-ID',\n",
      "       'Fallart', 'Abteilungs-ID', 'Dringlichkeit', 'Narkoseverfahren',\n",
      "       'Unnamed:_8', 'O1', 'O2', 'O3', 'O4', 'O5', 'O6', 'O7', 'O8', 'O9',\n",
      "       'O10', 'O11', 'O12', 'Unnamed:_21', 'A1', 'A2', 'A3', 'A4', 'A5', 'A6',\n",
      "       'A7', 'A8', 'A9', 'A10', 'A11', 'A12', 'A13', 'A14', 'A15', 'A16',\n",
      "       'Unnamed:_38', 'P1', 'P2', 'P3', 'P4', 'P5', 'P6', 'P7', 'P8', 'P9',\n",
      "       'P10', 'Unnamed:_49', 'OPS_1', 'OPS_2', 'OPS_3', 'OPS_4', 'OPS_5',\n",
      "       'Unnamed:_55', 'Unnamed:_56', 'D', 'E', 'F', 'G', 'H', 'Q<S_?',\n",
      "       'AB<AC<AE_?', 'AY-BC', 'Q', 'S', 'AB', 'AC', 'AE', 'C', 'Zei_vollst',\n",
      "       'Doppelte_OPS', 'OP_>_1_Tag', 'Anä_>_1_Tag', 'S<AE_?', 'AB<Q?', 'AC<Q?',\n",
      "       'Saal_mit_Gültigkeit_angelegt', 'Schnitt-Dat_=_OP-Dat?',\n",
      "       'OP-Überlappung', 'Unnamed:_81', 'Unnamed:_82', 'Unnamed:_83',\n",
      "       'Unnamed:_84', 'Spalte', 'Zeile', 'Beginn', 'Ende', 'Rüst', 'Rüst1',\n",
      "       'Beginn_korr', 'Ende_korr', 'Schnitt', 'Naht', 'Diff', 'Anä_Beg',\n",
      "       'Anä_End', 'Unnamed:_98', 'Minuten'],\n",
      "      dtype='object')\n"
     ]
    },
    {
     "name": "stderr",
     "output_type": "stream",
     "text": [
      "/Users/kultiginbozdemir/opt/anaconda3/envs/statistics/lib/python3.7/site-packages/ipykernel_launcher.py:6: FutureWarning: The default value of regex will change from True to False in a future version. In addition, single character regular expressions will*not* be treated as literal strings when regex=True.\n",
      "  \n"
     ]
    },
    {
     "data": {
      "text/html": [
       "<div>\n",
       "<style scoped>\n",
       "    .dataframe tbody tr th:only-of-type {\n",
       "        vertical-align: middle;\n",
       "    }\n",
       "\n",
       "    .dataframe tbody tr th {\n",
       "        vertical-align: top;\n",
       "    }\n",
       "\n",
       "    .dataframe thead th {\n",
       "        text-align: right;\n",
       "    }\n",
       "</style>\n",
       "<table border=\"1\" class=\"dataframe\">\n",
       "  <thead>\n",
       "    <tr style=\"text-align: right;\">\n",
       "      <th></th>\n",
       "      <th>Fallnummer</th>\n",
       "      <th>Datum</th>\n",
       "      <th>Saal-ID</th>\n",
       "      <th>Fallart</th>\n",
       "      <th>Abteilungs-ID</th>\n",
       "      <th>Dringlichkeit</th>\n",
       "      <th>begin_time</th>\n",
       "      <th>end_time</th>\n",
       "      <th>OPS_1</th>\n",
       "      <th>OPS_2</th>\n",
       "      <th>OPS_3</th>\n",
       "      <th>OPS_4</th>\n",
       "      <th>OPS_5</th>\n",
       "      <th>op_time</th>\n",
       "    </tr>\n",
       "  </thead>\n",
       "  <tbody>\n",
       "    <tr>\n",
       "      <th>5</th>\n",
       "      <td>1563301</td>\n",
       "      <td>2019-01-01</td>\n",
       "      <td>HKL1</td>\n",
       "      <td>s</td>\n",
       "      <td>IM2</td>\n",
       "      <td>3.0</td>\n",
       "      <td>2019-01-01 00:25:00</td>\n",
       "      <td>2019-01-01 01:40:00</td>\n",
       "      <td>1-275.0</td>\n",
       "      <td>1-275.5</td>\n",
       "      <td>3-605</td>\n",
       "      <td>8-837.00</td>\n",
       "      <td>NaN</td>\n",
       "      <td>75.0</td>\n",
       "    </tr>\n",
       "    <tr>\n",
       "      <th>6</th>\n",
       "      <td>1563300</td>\n",
       "      <td>2019-01-01</td>\n",
       "      <td>HKL1</td>\n",
       "      <td>s</td>\n",
       "      <td>IM2</td>\n",
       "      <td>3.0</td>\n",
       "      <td>2019-01-01 10:06:00</td>\n",
       "      <td>2019-01-01 10:20:00</td>\n",
       "      <td>1-275.0</td>\n",
       "      <td>3-605</td>\n",
       "      <td>NaN</td>\n",
       "      <td>NaN</td>\n",
       "      <td>NaN</td>\n",
       "      <td>14.0</td>\n",
       "    </tr>\n",
       "    <tr>\n",
       "      <th>7</th>\n",
       "      <td>1563260</td>\n",
       "      <td>2019-01-01</td>\n",
       "      <td>HKL1</td>\n",
       "      <td>s</td>\n",
       "      <td>IM2</td>\n",
       "      <td>3.0</td>\n",
       "      <td>2019-01-01 16:21:00</td>\n",
       "      <td>2019-01-01 17:18:00</td>\n",
       "      <td>1-275.0</td>\n",
       "      <td>8-837.00</td>\n",
       "      <td>8-837.m0</td>\n",
       "      <td>8-83b.08</td>\n",
       "      <td>8-83b.c5</td>\n",
       "      <td>57.0</td>\n",
       "    </tr>\n",
       "  </tbody>\n",
       "</table>\n",
       "</div>"
      ],
      "text/plain": [
       "  Fallnummer      Datum Saal-ID Fallart Abteilungs-ID  Dringlichkeit  \\\n",
       "5    1563301 2019-01-01    HKL1       s           IM2            3.0   \n",
       "6    1563300 2019-01-01    HKL1       s           IM2            3.0   \n",
       "7    1563260 2019-01-01    HKL1       s           IM2            3.0   \n",
       "\n",
       "           begin_time            end_time    OPS_1     OPS_2     OPS_3  \\\n",
       "5 2019-01-01 00:25:00 2019-01-01 01:40:00  1-275.0   1-275.5     3-605   \n",
       "6 2019-01-01 10:06:00 2019-01-01 10:20:00  1-275.0     3-605       NaN   \n",
       "7 2019-01-01 16:21:00 2019-01-01 17:18:00  1-275.0  8-837.00  8-837.m0   \n",
       "\n",
       "      OPS_4     OPS_5  op_time  \n",
       "5  8-837.00       NaN     75.0  \n",
       "6       NaN       NaN     14.0  \n",
       "7  8-83b.08  8-83b.c5     57.0  "
      ]
     },
     "execution_count": 51,
     "metadata": {},
     "output_type": "execute_result"
    }
   ],
   "source": [
    "df=df_ops.copy()\n",
    "\n",
    "\n",
    "df.columns=df.columns.str.replace(' ','_',regex=True)\n",
    "df.columns=df.columns.str.replace(\"\\n\",\"\")\n",
    "df.columns=df.columns.str.replace(\".\",\"\")\n",
    "print(df.columns)\n",
    "\n",
    "df=df[['Fallnummer_(analog_zu_§_21-Daten)', 'Datum', 'Saal-ID',\n",
    "       'Fallart', 'Abteilungs-ID', 'Dringlichkeit', 'O8', \n",
    "       'O10',  'OPS_1','OPS_2','OPS_3','OPS_4','OPS_5']]\n",
    "df=df.drop(df.index[[0,1,2,3,4]])\n",
    "\n",
    "df = df.rename(columns={'O8': 'begin_time', 'O10':'end_time','Fallnummer_(analog_zu_§_21-Daten)': 'Fallnummer' })\n",
    "#df['Dringlichkeit']=df['Dringlichkeit'].astype(int)\n",
    "df.head()\n",
    "\n",
    "\n",
    "#df['begin_time'].unique()\n",
    "\n",
    "df.tail()\n",
    "\n",
    "#Delete nan rows\n",
    "df=df.dropna(subset = [\"begin_time\"], inplace=False)\n",
    "\n",
    "#df[df['begin_time'].isna()==True]\n",
    "\n",
    "df['begin_time']=pd.to_datetime(df['begin_time'], errors='coerce')\n",
    "df['end_time']=pd.to_datetime(df['end_time'], errors='coerce')\n",
    "#df.info()\n",
    "\n",
    "\n",
    "# Calculate operation time\n",
    "df['op_time']=df['end_time']-df['begin_time']\n",
    "df['op_time']=df['op_time'].dt.total_seconds()/60\n",
    "\n",
    "df.head(3)"
   ]
  },
  {
   "cell_type": "code",
   "execution_count": 52,
   "id": "ee151edf",
   "metadata": {},
   "outputs": [
    {
     "data": {
      "text/plain": [
       "Text(0, 0.5, 'Number of ops per department')"
      ]
     },
     "execution_count": 52,
     "metadata": {},
     "output_type": "execute_result"
    },
    {
     "data": {
      "image/png": "[encoded data removed]",
      "text/plain": [
       "<Figure size 540x540 with 1 Axes>"
      ]
     },
     "metadata": {
      "needs_background": "light"
     },
     "output_type": "display_data"
    }
   ],
   "source": [
    "plt.hist(df['Abteilungs-ID'], bins=len(df['Abteilungs-ID'].unique()))\n",
    "plt.title('Histogram of Departments' )\n",
    "plt.ylabel('Number of ops per department')"
   ]
  },
  {
   "cell_type": "code",
   "execution_count": 53,
   "id": "d5ac83e6",
   "metadata": {},
   "outputs": [],
   "source": [
    "df=df[df['Abteilungs-ID'].isin(['OR2','IM1'])==False]"
   ]
  },
  {
   "cell_type": "code",
   "execution_count": 54,
   "id": "d00ed057",
   "metadata": {},
   "outputs": [
    {
     "data": {
      "image/png": "[encoded data removed]",
      "text/plain": [
       "<Figure size 1080x432 with 1 Axes>"
      ]
     },
     "metadata": {
      "needs_background": "light"
     },
     "output_type": "display_data"
    }
   ],
   "source": [
    "plt.figure(figsize=(15, 6))\n",
    "plt.hist(df[\"Datum\"].head(300), bins=len(list(set(df[\"Datum\"].head(300)))))\n",
    "plt.title('Number of ops on a day' )\n",
    "plt.ylabel('number of ops')\n",
    "plt.xticks(rotation=45)\n",
    "plt.tight_layout()"
   ]
  },
  {
   "cell_type": "code",
   "execution_count": 55,
   "id": "09c5300a",
   "metadata": {},
   "outputs": [
    {
     "name": "stdout",
     "output_type": "stream",
     "text": [
      "count      8183\n",
      "unique        2\n",
      "top       False\n",
      "freq       7915\n",
      "Name: begin_time, dtype: object\n"
     ]
    }
   ],
   "source": [
    "# Remove out of working time operations, probably emergencies. \n",
    "mask=(df['begin_time'].dt.hour<7)|(df['begin_time'].dt.hour>18)\n",
    "print(mask.describe())\n",
    "df.drop(df[mask==True].index, inplace=True)"
   ]
  },
  {
   "cell_type": "code",
   "execution_count": 56,
   "id": "0edb9674",
   "metadata": {},
   "outputs": [
    {
     "data": {
      "text/plain": [
       "(7915, 14)"
      ]
     },
     "execution_count": 56,
     "metadata": {},
     "output_type": "execute_result"
    }
   ],
   "source": [
    "df.shape"
   ]
  },
  {
   "cell_type": "markdown",
   "id": "0729d1e2",
   "metadata": {},
   "source": [
    "### To create a dataframe for weights and values\n",
    "We mine data to generate weight and value of an operation.\n",
    "Here we follow a simple way; we take the mean time of every type of operation as a weight.\n",
    "Value equals to the urgency level for now.\n",
    "This attributes will be used in the knapsack problem."
   ]
  },
  {
   "cell_type": "code",
   "execution_count": 57,
   "id": "3a937a57",
   "metadata": {},
   "outputs": [
    {
     "data": {
      "text/plain": [
       "Index(['Fallnummer', 'Datum', 'Saal-ID', 'Fallart', 'Abteilungs-ID',\n",
       "       'Dringlichkeit', 'begin_time', 'end_time', 'OPS_1', 'OPS_2', 'OPS_3',\n",
       "       'OPS_4', 'OPS_5', 'op_time'],\n",
       "      dtype='object')"
      ]
     },
     "execution_count": 57,
     "metadata": {},
     "output_type": "execute_result"
    }
   ],
   "source": [
    "df.columns"
   ]
  },
  {
   "cell_type": "code",
   "execution_count": 58,
   "id": "23455db8",
   "metadata": {},
   "outputs": [
    {
     "data": {
      "text/html": [
       "<div>\n",
       "<style scoped>\n",
       "    .dataframe tbody tr th:only-of-type {\n",
       "        vertical-align: middle;\n",
       "    }\n",
       "\n",
       "    .dataframe tbody tr th {\n",
       "        vertical-align: top;\n",
       "    }\n",
       "\n",
       "    .dataframe thead th {\n",
       "        text-align: right;\n",
       "    }\n",
       "</style>\n",
       "<table border=\"1\" class=\"dataframe\">\n",
       "  <thead>\n",
       "    <tr style=\"text-align: right;\">\n",
       "      <th></th>\n",
       "      <th>median</th>\n",
       "      <th>mean</th>\n",
       "      <th>min</th>\n",
       "      <th>max</th>\n",
       "      <th>std</th>\n",
       "      <th>count</th>\n",
       "    </tr>\n",
       "    <tr>\n",
       "      <th>ops</th>\n",
       "      <th></th>\n",
       "      <th></th>\n",
       "      <th></th>\n",
       "      <th></th>\n",
       "      <th></th>\n",
       "      <th></th>\n",
       "    </tr>\n",
       "  </thead>\n",
       "  <tbody>\n",
       "    <tr>\n",
       "      <th>1-265.1,1-265.0,1-265.8</th>\n",
       "      <td>77</td>\n",
       "      <td>77.000000</td>\n",
       "      <td>77.0</td>\n",
       "      <td>77.0</td>\n",
       "      <td>NaN</td>\n",
       "      <td>1</td>\n",
       "    </tr>\n",
       "    <tr>\n",
       "      <th>1-265.4</th>\n",
       "      <td>40</td>\n",
       "      <td>59.571429</td>\n",
       "      <td>17.0</td>\n",
       "      <td>125.0</td>\n",
       "      <td>39.677269</td>\n",
       "      <td>7</td>\n",
       "    </tr>\n",
       "    <tr>\n",
       "      <th>1-265.4,1-266.3</th>\n",
       "      <td>60</td>\n",
       "      <td>66.954545</td>\n",
       "      <td>38.0</td>\n",
       "      <td>110.0</td>\n",
       "      <td>20.557648</td>\n",
       "      <td>22</td>\n",
       "    </tr>\n",
       "    <tr>\n",
       "      <th>1-265.4,1-266.3,1-268.0</th>\n",
       "      <td>79</td>\n",
       "      <td>79.250000</td>\n",
       "      <td>54.0</td>\n",
       "      <td>105.0</td>\n",
       "      <td>21.391198</td>\n",
       "      <td>4</td>\n",
       "    </tr>\n",
       "    <tr>\n",
       "      <th>1-265.4,1-266.3,1-268.0,8-640.0,8-835.30</th>\n",
       "      <td>257</td>\n",
       "      <td>257.000000</td>\n",
       "      <td>257.0</td>\n",
       "      <td>257.0</td>\n",
       "      <td>NaN</td>\n",
       "      <td>1</td>\n",
       "    </tr>\n",
       "  </tbody>\n",
       "</table>\n",
       "</div>"
      ],
      "text/plain": [
       "                                          median        mean    min    max  \\\n",
       "ops                                                                          \n",
       "1-265.1,1-265.0,1-265.8                       77   77.000000   77.0   77.0   \n",
       "1-265.4                                       40   59.571429   17.0  125.0   \n",
       "1-265.4,1-266.3                               60   66.954545   38.0  110.0   \n",
       "1-265.4,1-266.3,1-268.0                       79   79.250000   54.0  105.0   \n",
       "1-265.4,1-266.3,1-268.0,8-640.0,8-835.30     257  257.000000  257.0  257.0   \n",
       "\n",
       "                                                std  count  \n",
       "ops                                                         \n",
       "1-265.1,1-265.0,1-265.8                         NaN      1  \n",
       "1-265.4                                   39.677269      7  \n",
       "1-265.4,1-266.3                           20.557648     22  \n",
       "1-265.4,1-266.3,1-268.0                   21.391198      4  \n",
       "1-265.4,1-266.3,1-268.0,8-640.0,8-835.30        NaN      1  "
      ]
     },
     "execution_count": 58,
     "metadata": {},
     "output_type": "execute_result"
    }
   ],
   "source": [
    "# To mine data to get usefull info for weight and value coefficients.\n",
    "# Weight of an op is the operation time.\n",
    "# value is the urgency level (Dringlichkeit)\n",
    "# Later on, waiting time in the basket can also be used for profit coefficient assignments.\n",
    "df['ops'] = df[df.columns[8:13]].apply(\n",
    "    lambda x: ','.join(x.dropna().astype(str)),\n",
    "    axis=1\n",
    ")\n",
    "df\n",
    "\n",
    "\n",
    "df2=df.groupby('ops').agg({'op_time':['median']}).astype(int)\n",
    "df2[['mean','min','max']]=df.groupby('ops').agg({'op_time':['mean','min','max']})\n",
    "\n",
    "df2['std']=df.groupby('ops')['op_time'].std()\n",
    "df2['count']=df.groupby('ops').size()\n",
    "df2.columns=['median','mean','min','max', 'std', 'count']\n",
    "\n",
    "\n",
    "\n",
    "df2.head(5)"
   ]
  },
  {
   "cell_type": "code",
   "execution_count": 59,
   "id": "6590b5a5",
   "metadata": {},
   "outputs": [
    {
     "name": "stdout",
     "output_type": "stream",
     "text": [
      "count of op types is 3484\n",
      "ops having sample size larger than 8: is 85\n"
     ]
    },
    {
     "data": {
      "text/plain": [
       "True"
      ]
     },
     "execution_count": 59,
     "metadata": {},
     "output_type": "execute_result"
    }
   ],
   "source": [
    "print('count of op types is',df2.shape[0])\n",
    "print('ops having sample size larger than 8: is',df2[df2['count']>8].shape[0])\n",
    "\n",
    "# it means , almost 15% of data have a sample size larger than 8. Can we trust it?\n",
    "\n",
    "df.index.is_unique # index will be used to identify the operations"
   ]
  },
  {
   "cell_type": "markdown",
   "id": "939a2552",
   "metadata": {},
   "source": [
    "### Operations frequency\n",
    "\n",
    "In the following section we simulate the our knapsack problem.\n",
    "Knapsack algoritm return the results day by bay.\n",
    "The operations will be put in a pool after they were processed by the departments.\n",
    "The algoritm will run and allocate the ops to the operations room.<br>\n",
    "We need to know how many operations are registered in a day. However we cannot get this information from the data set.  It requires further collaboration with the hospital.<br> Nevertheless, we can have a look at the data which shows the executed operations through the year."
   ]
  },
  {
   "cell_type": "code",
   "execution_count": 18,
   "id": "227e6d13",
   "metadata": {},
   "outputs": [
    {
     "data": {
      "text/html": [
       "<div>\n",
       "<style scoped>\n",
       "    .dataframe tbody tr th:only-of-type {\n",
       "        vertical-align: middle;\n",
       "    }\n",
       "\n",
       "    .dataframe tbody tr th {\n",
       "        vertical-align: top;\n",
       "    }\n",
       "\n",
       "    .dataframe thead th {\n",
       "        text-align: right;\n",
       "    }\n",
       "</style>\n",
       "<table border=\"1\" class=\"dataframe\">\n",
       "  <thead>\n",
       "    <tr style=\"text-align: right;\">\n",
       "      <th></th>\n",
       "      <th>count</th>\n",
       "      <th>total_time</th>\n",
       "      <th>median</th>\n",
       "      <th>mean</th>\n",
       "      <th>min</th>\n",
       "      <th>max</th>\n",
       "    </tr>\n",
       "    <tr>\n",
       "      <th>Datum</th>\n",
       "      <th></th>\n",
       "      <th></th>\n",
       "      <th></th>\n",
       "      <th></th>\n",
       "      <th></th>\n",
       "      <th></th>\n",
       "    </tr>\n",
       "  </thead>\n",
       "  <tbody>\n",
       "    <tr>\n",
       "      <th>2019-01-01</th>\n",
       "      <td>5</td>\n",
       "      <td>205.0</td>\n",
       "      <td>35.0</td>\n",
       "      <td>41.000000</td>\n",
       "      <td>14.0</td>\n",
       "      <td>70.0</td>\n",
       "    </tr>\n",
       "    <tr>\n",
       "      <th>2019-01-02</th>\n",
       "      <td>14</td>\n",
       "      <td>1197.0</td>\n",
       "      <td>53.0</td>\n",
       "      <td>85.500000</td>\n",
       "      <td>18.0</td>\n",
       "      <td>387.0</td>\n",
       "    </tr>\n",
       "    <tr>\n",
       "      <th>2019-01-03</th>\n",
       "      <td>30</td>\n",
       "      <td>1886.0</td>\n",
       "      <td>46.0</td>\n",
       "      <td>62.866667</td>\n",
       "      <td>7.0</td>\n",
       "      <td>467.0</td>\n",
       "    </tr>\n",
       "    <tr>\n",
       "      <th>2019-01-04</th>\n",
       "      <td>26</td>\n",
       "      <td>1168.0</td>\n",
       "      <td>33.5</td>\n",
       "      <td>44.923077</td>\n",
       "      <td>2.0</td>\n",
       "      <td>115.0</td>\n",
       "    </tr>\n",
       "    <tr>\n",
       "      <th>2019-01-05</th>\n",
       "      <td>1</td>\n",
       "      <td>44.0</td>\n",
       "      <td>44.0</td>\n",
       "      <td>44.000000</td>\n",
       "      <td>44.0</td>\n",
       "      <td>44.0</td>\n",
       "    </tr>\n",
       "  </tbody>\n",
       "</table>\n",
       "</div>"
      ],
      "text/plain": [
       "            count  total_time  median       mean   min    max\n",
       "Datum                                                        \n",
       "2019-01-01      5       205.0    35.0  41.000000  14.0   70.0\n",
       "2019-01-02     14      1197.0    53.0  85.500000  18.0  387.0\n",
       "2019-01-03     30      1886.0    46.0  62.866667   7.0  467.0\n",
       "2019-01-04     26      1168.0    33.5  44.923077   2.0  115.0\n",
       "2019-01-05      1        44.0    44.0  44.000000  44.0   44.0"
      ]
     },
     "execution_count": 18,
     "metadata": {},
     "output_type": "execute_result"
    }
   ],
   "source": [
    "# To create a dataframe by grouping the days\n",
    "df3=pd.DataFrame()\n",
    "df3[['count','total_time','median','mean','min','max']]=df.groupby('Datum').agg({'op_time':['size','sum','median','mean','min','max']})\n",
    "\n",
    "df3.head()"
   ]
  },
  {
   "cell_type": "code",
   "execution_count": 19,
   "id": "390ad5cd",
   "metadata": {},
   "outputs": [
    {
     "name": "stdout",
     "output_type": "stream",
     "text": [
      "\n"
     ]
    },
    {
     "data": {
      "image/png": "[encoded data removed]",
      "text/plain": [
       "<Figure size 540x540 with 1 Axes>"
      ]
     },
     "metadata": {
      "needs_background": "light"
     },
     "output_type": "display_data"
    }
   ],
   "source": [
    "plt.hist(df3['count'], bins=max(df3['count']))\n",
    "print('')"
   ]
  },
  {
   "cell_type": "code",
   "execution_count": 20,
   "id": "f0a3c937",
   "metadata": {},
   "outputs": [
    {
     "name": "stdout",
     "output_type": "stream",
     "text": [
      "\n"
     ]
    },
    {
     "data": {
      "image/png": "[encoded data removed]",
      "text/plain": [
       "<Figure size 540x540 with 1 Axes>"
      ]
     },
     "metadata": {
      "needs_background": "light"
     },
     "output_type": "display_data"
    }
   ],
   "source": [
    "\n",
    "plt.hist(df3['total_time'], bins=50)\n",
    "print('')"
   ]
  },
  {
   "cell_type": "code",
   "execution_count": 21,
   "id": "717e92c9",
   "metadata": {},
   "outputs": [],
   "source": [
    "# Those days are usually at the weekends or national holidays. \n",
    "\n",
    "rmv=list(df3[df3['count']<10].index)\n",
    "df=df[df['Datum'].isin(rmv)==False]\n",
    "df3.drop(rmv, inplace=True)"
   ]
  },
  {
   "cell_type": "markdown",
   "id": "5ecddde7",
   "metadata": {},
   "source": [
    "## Capacity of the resources\n",
    "We get this information from the excel file.\n",
    "Although, OR2 and IM1 departments are not provided or constrained on the excel sheet, they have some operations on the operations data set. To navigate around this confusion, I simply assigned constraints 444 and 333 respectively."
   ]
  },
  {
   "cell_type": "code",
   "execution_count": 22,
   "id": "90506529",
   "metadata": {},
   "outputs": [],
   "source": [
    "# departments\n",
    "deps=['CH1', 'CH2', 'CH3', 'HT', 'IM1', 'IM2', 'OR1', 'OR2']\n",
    "\n",
    "# Departments capacities\n",
    "deps_cap=[660, 435, 600,260,0, 825, 930,0]\n",
    "sum(deps_cap)\n",
    "\n",
    "def departments(day):\n",
    "    return(ddf[day])\n",
    "\n",
    "\n",
    "\n",
    "\n"
   ]
  },
  {
   "cell_type": "code",
   "execution_count": 23,
   "id": "e2922401",
   "metadata": {},
   "outputs": [],
   "source": [
    "# Operations room names\n",
    "#It is mentioned on the excel sheet that only 5 op_rooms are included in central planning. \n",
    "op_rooms=list(set(list(df['Saal-ID'])))\n",
    "\n",
    "op_rooms=sorted(op_rooms)\n",
    "op_rooms\n",
    "\n",
    "# Operation rooms capacities\n",
    "op_rooms_cap=[435, 390, 555, 555 ,555,435,435,320]\n",
    "\n",
    "\n",
    "def op_rooms(datum):\n",
    "    \n",
    "    if  datum > dt.datetime.strptime('2019-07-01','%Y-%m-%d'):\n",
    "        return(Jul[datum.strftime('%A')])\n",
    "    else:\n",
    "        return (Jan[datum.strftime('%A')])\n",
    "\n"
   ]
  },
  {
   "cell_type": "markdown",
   "id": "ffc4d137",
   "metadata": {},
   "source": [
    "# Operations basket simulation\n",
    "\n",
    "# Simulation starts!\n",
    "### An operation is registered and transfered to the basket\n",
    "<br>\n",
    "We assume that the Hospital has a strategy of FIFO for its services. <br>\n",
    "Every single day is a large basket for the operations registered by the departments. After every operatin's registration, algoritm runs and returns a solution for the optimal allocations. That means, time schedule of the operations can be different after every run, since it looks for the optimal allocation. The hospital staff do not promise the patient for a particular time slot. The hospital promises only the date. <br> \n",
    "Once the last registrated operation causes the algoritm to hit the constraints and to fail the assigning of all operations in the basket to the operation rooms, it stops there and rejects the last registration.  The previous solution which assigns all the operations in the into the operation-rooms remains the last valid solution. <br> \n"
   ]
  },
  {
   "cell_type": "code",
   "execution_count": 24,
   "id": "c0227b19",
   "metadata": {},
   "outputs": [],
   "source": [
    "# Basket\n",
    "basket=pd.DataFrame(columns=['Abteilungs-ID','ops','weight','value'])\n",
    "\n",
    "\n",
    "# We randomly choose an operation from the data set. This represents the new operation which is preprocessed and registered in to the basket. \n",
    "# We populate also relavent attributes like weight and value.\n",
    "\n",
    "import random\n",
    "\n",
    "\n",
    "def populate_basket():\n",
    "    basket_weight=sum(basket['weight'])\n",
    "    #print('total time in the basket:',sum(basket['weight']))\n",
    "    \n",
    "    ind=random.choice(df.index)\n",
    "    #print('operation index:',ind)\n",
    "    basket.loc[ind,'ops']=df.loc[ind,'ops']\n",
    "    basket.loc[ind,'Abteilungs-ID']=df.loc[ind,'Abteilungs-ID'] \n",
    "    basket.loc[ind,'value']=df.loc[ind,'Dringlichkeit']\n",
    "    basket.loc[ind, 'weight']=df2.loc[df.loc[ind,'ops'],'median']\n",
    "    basket_weight+=df2.loc[df.loc[ind,'ops'],'median']\n",
    "    #print('after registration total time:',sum(basket['weight']))\n",
    "    return(ind)"
   ]
  },
  {
   "cell_type": "code",
   "execution_count": 25,
   "id": "293b83ed",
   "metadata": {},
   "outputs": [
    {
     "data": {
      "text/html": [
       "<div>\n",
       "<style scoped>\n",
       "    .dataframe tbody tr th:only-of-type {\n",
       "        vertical-align: middle;\n",
       "    }\n",
       "\n",
       "    .dataframe tbody tr th {\n",
       "        vertical-align: top;\n",
       "    }\n",
       "\n",
       "    .dataframe thead th {\n",
       "        text-align: right;\n",
       "    }\n",
       "</style>\n",
       "<table border=\"1\" class=\"dataframe\">\n",
       "  <thead>\n",
       "    <tr style=\"text-align: right;\">\n",
       "      <th></th>\n",
       "      <th>Abteilungs-ID</th>\n",
       "      <th>ops</th>\n",
       "      <th>weight</th>\n",
       "      <th>value</th>\n",
       "    </tr>\n",
       "  </thead>\n",
       "  <tbody>\n",
       "  </tbody>\n",
       "</table>\n",
       "</div>"
      ],
      "text/plain": [
       "Empty DataFrame\n",
       "Columns: [Abteilungs-ID, ops, weight, value]\n",
       "Index: []"
      ]
     },
     "execution_count": 25,
     "metadata": {},
     "output_type": "execute_result"
    }
   ],
   "source": [
    "basket.tail(1)"
   ]
  },
  {
   "cell_type": "code",
   "execution_count": 28,
   "id": "c39517aa",
   "metadata": {},
   "outputs": [],
   "source": [
    "from ortools.linear_solver import pywraplp\n",
    "def create_data_model(datum):\n",
    "    \"\"\"Create the data for the example.\"\"\"\n",
    "    data = {}\n",
    "\n",
    "    w = list(basket['weight'])\n",
    "    v = list(basket['value'])\n",
    "    d= list(basket['Abteilungs-ID'])\n",
    "    l=list(basket.index)\n",
    "    items=list(zip(l,w,v,d)) # item_no, weight, value, department\n",
    "    \n",
    "\n",
    "    data['items'] = items\n",
    "    \n",
    "    opr=op_rooms(datum)\n",
    "    data['bins'] = list(zip(list(opr.index),list(opr)))\n",
    "    data['bin_capacities'] = list(opr)\n",
    "    \n",
    "\n",
    "    deps=departments(datum.strftime('%A'))\n",
    "    data['deps'] = list(zip(list(deps.index),list(deps)))\n",
    "    data['dep_capacities'] = list(deps)\n",
    "    return data"
   ]
  },
  {
   "cell_type": "raw",
   "id": "cb8a7677",
   "metadata": {},
   "source": [
    "for ind, row in df.head().iterrows():\n",
    "    print(create_data_model(row[\"Datum\"]))"
   ]
  },
  {
   "cell_type": "markdown",
   "id": "a91890f0",
   "metadata": {},
   "source": [
    "### Knapsack Problem Solving\n",
    "### Optimization with Google OR tools\n",
    "Please visit the following website for the tutorials and documentation. \n",
    "\n",
    "https://developers.google.com/optimization/introduction/python"
   ]
  },
  {
   "cell_type": "code",
   "execution_count": 37,
   "id": "0e6ab2de",
   "metadata": {},
   "outputs": [],
   "source": [
    "# We simulate the flow of operations into the pool with while loop.\n",
    "#Normally, the algorihtm will be executed every time when an operation is tried to be registered. \n",
    "# This registration process can continue until one day or one week before the operation.\n",
    "# It depends on the internal process of the hospital.\n",
    "#But until it is frozen, flow of ops continues. This while loop serves that. \n",
    "def simulation(datum):\n",
    "    basket.drop(basket.index, inplace=True) # to clean the basket for the day\n",
    "    loop_num=50 # This number will be used to break the while loop. \n",
    "    count=0\n",
    "    total_weight=0\n",
    "    while basket.shape[0]<=count:\n",
    "        #print('basket size:',basket.shape[0], 'count:',count)\n",
    "        # Create the mip solver with the SCIP backend.\n",
    "        solver = pywraplp.Solver.CreateSolver('SCIP')\n",
    "        ind=populate_basket()\n",
    "        data=create_data_model(datum)\n",
    "        #data\n",
    "\n",
    "\n",
    "        # Variables\n",
    "        # x[i, j] = 1 if item i is packed in bin j.\n",
    "        x = {}\n",
    "        for i,w,v,d in data['items']:\n",
    "            for j,c in data['bins']:\n",
    "                x[(d,i, j)] = solver.IntVar(0, 1, 'x_%s_%s_%s' % (d,i, j))\n",
    "\n",
    "        #print('number of variables',len(x))\n",
    "\n",
    "        # Constraints\n",
    "        # Each item can be in at most one bin.\n",
    "        for i,w,v,d in data['items']:\n",
    "            solver.Add(sum(x[(d,i, j)] for j,c in data['bins']) <= 1) # department_no, item_no, bin_no\n",
    "\n",
    "\n",
    "        #print('Number of constraints =', solver.NumConstraints())\n",
    "\n",
    "        # The amount packed in each bin cannot exceed its capacity.\n",
    "        for j,c in data['bins']:\n",
    "            solver.Add(\n",
    "                sum(x[(d,i, j)] * w\n",
    "                    for i,w,v,d in data['items']) <= c)\n",
    "\n",
    "        #print('Number of constraints =', solver.NumConstraints())\n",
    "\n",
    "        # The dapertment cannot exceed its capacity\n",
    "\n",
    "        #for k in data['deps']:\n",
    "        for k,u in data['deps']:\n",
    "            total=0\n",
    "            for i,w,v,d in data['items'] :\n",
    "                for j,c in data['bins']:\n",
    "                    if d==k:\n",
    "                        total+= x[(d,i, j)]*w\n",
    "            solver.Add(total <= u)\n",
    "\n",
    "        #print('Number of constraints =', solver.NumConstraints())\n",
    "\n",
    "        # Objective\n",
    "        objective = solver.Objective()\n",
    "\n",
    "        for i,w,v,d in data['items']:\n",
    "            for j,c in data['bins']:\n",
    "                objective.SetCoefficient(x[(d,i, j)], v)\n",
    "        objective.SetMaximization()\n",
    "\n",
    "        status = solver.Solve()\n",
    "        count=sum(v.solution_value() for k,v in x.items())\n",
    "\n",
    "        \n",
    "\n",
    "        # Check the solution allocates all the registered operations to the op_rooms.\n",
    "        # If it fails, reject the this solution and this new item (operation) and continue with the previous solution. \n",
    "\n",
    "\n",
    "        if basket.shape[0]>count:\n",
    "            loop_num -=1\n",
    "            #print('Sorry,',ind,', we cannot offer you a time slot on that day.')\n",
    "            #print('Algoritm excludes: ',basket.shape[0]-count, ' from the op-rooms allocation.' )\n",
    "            basket.drop(ind, inplace=True)\n",
    "\n",
    "            if loop_num<=0:\n",
    "                #... more tries for the hope of having a thiny operation in terms of op_time\n",
    "                break\n",
    "        else:\n",
    "            continue\n",
    "            #print(ind, \"registered for the operation.\")\n",
    "            \n",
    "        if status == pywraplp.Solver.OPTIMAL:\n",
    "\n",
    "\n",
    "            total_weight = 0\n",
    "\n",
    "            for j,c in data['bins']:\n",
    "                bin_weight = 0\n",
    "                bin_value = 0\n",
    "\n",
    "                for i,w,v,d in data['items']:\n",
    "                    if x[(d,i, j)].solution_value() > 0:\n",
    "                        #print('Item', i,'-department:', d, '- weight:', w, ' value:', v)\n",
    "                        bin_weight += w\n",
    "                        bin_value += v\n",
    "\n",
    "                total_weight += bin_weight\n",
    "            #print('.........')\n",
    "            #print('Total planned op value:', objective.Value())    \n",
    "            #print('Total planned  op time:', total_weight)\n",
    "            #print(\"Basket total weight\", basket[\"weight\"].sum())\n",
    "            #print('Total number of ops:', count) \n",
    "            \n",
    "            #print('We will inform you about the exact time of the operation.')\n",
    "            \n",
    "\n",
    "        else:\n",
    "            print('The problem does not have an optimal solution.')\n",
    "            #break\n",
    "    return(count, total_weight, objective.Value())"
   ]
  },
  {
   "cell_type": "code",
   "execution_count": 38,
   "id": "81e99d30",
   "metadata": {},
   "outputs": [],
   "source": [
    "for ind, row in df3.iterrows():\n",
    "    #print()\n",
    "    #print(list(op_rooms(row['Datum'])))\n",
    "    #print(list(op_rooms(row['Datum'],row['Datum'].strftime('%A'))))\n",
    "    #print(departments(row['Datum'].strftime('%A')))\n",
    "    count,total_weight,value=simulation(ind)\n",
    "    df3.loc[ind,\"sim_weight\"]=total_weight\n",
    "    df3.loc[ind,\"sim_count\"]=count\n",
    "    df3.loc[ind,\"sim_value\"]=value\n",
    "    #print(ind,'....',simulation(ind))"
   ]
  },
  {
   "cell_type": "code",
   "execution_count": 39,
   "id": "681a3fd0",
   "metadata": {},
   "outputs": [
    {
     "data": {
      "text/html": [
       "<div>\n",
       "<style scoped>\n",
       "    .dataframe tbody tr th:only-of-type {\n",
       "        vertical-align: middle;\n",
       "    }\n",
       "\n",
       "    .dataframe tbody tr th {\n",
       "        vertical-align: top;\n",
       "    }\n",
       "\n",
       "    .dataframe thead th {\n",
       "        text-align: right;\n",
       "    }\n",
       "</style>\n",
       "<table border=\"1\" class=\"dataframe\">\n",
       "  <thead>\n",
       "    <tr style=\"text-align: right;\">\n",
       "      <th></th>\n",
       "      <th>count</th>\n",
       "      <th>total_time</th>\n",
       "      <th>median</th>\n",
       "      <th>mean</th>\n",
       "      <th>min</th>\n",
       "      <th>max</th>\n",
       "      <th>sim_weight</th>\n",
       "      <th>sim_count</th>\n",
       "      <th>sim_value</th>\n",
       "    </tr>\n",
       "    <tr>\n",
       "      <th>Datum</th>\n",
       "      <th></th>\n",
       "      <th></th>\n",
       "      <th></th>\n",
       "      <th></th>\n",
       "      <th></th>\n",
       "      <th></th>\n",
       "      <th></th>\n",
       "      <th></th>\n",
       "      <th></th>\n",
       "    </tr>\n",
       "  </thead>\n",
       "  <tbody>\n",
       "    <tr>\n",
       "      <th>2019-12-18</th>\n",
       "      <td>29</td>\n",
       "      <td>1426.0</td>\n",
       "      <td>42.0</td>\n",
       "      <td>49.172414</td>\n",
       "      <td>2.0</td>\n",
       "      <td>163.0</td>\n",
       "      <td>3120.0</td>\n",
       "      <td>70.0</td>\n",
       "      <td>74.0</td>\n",
       "    </tr>\n",
       "    <tr>\n",
       "      <th>2019-12-19</th>\n",
       "      <td>22</td>\n",
       "      <td>1386.0</td>\n",
       "      <td>39.5</td>\n",
       "      <td>63.000000</td>\n",
       "      <td>5.0</td>\n",
       "      <td>207.0</td>\n",
       "      <td>2870.0</td>\n",
       "      <td>78.0</td>\n",
       "      <td>84.0</td>\n",
       "    </tr>\n",
       "    <tr>\n",
       "      <th>2019-12-20</th>\n",
       "      <td>27</td>\n",
       "      <td>1475.0</td>\n",
       "      <td>52.0</td>\n",
       "      <td>54.629630</td>\n",
       "      <td>5.0</td>\n",
       "      <td>144.0</td>\n",
       "      <td>2816.0</td>\n",
       "      <td>55.0</td>\n",
       "      <td>61.0</td>\n",
       "    </tr>\n",
       "    <tr>\n",
       "      <th>2019-12-23</th>\n",
       "      <td>14</td>\n",
       "      <td>530.0</td>\n",
       "      <td>31.0</td>\n",
       "      <td>37.857143</td>\n",
       "      <td>11.0</td>\n",
       "      <td>82.0</td>\n",
       "      <td>3577.0</td>\n",
       "      <td>83.0</td>\n",
       "      <td>83.0</td>\n",
       "    </tr>\n",
       "    <tr>\n",
       "      <th>2019-12-27</th>\n",
       "      <td>16</td>\n",
       "      <td>803.0</td>\n",
       "      <td>54.5</td>\n",
       "      <td>50.187500</td>\n",
       "      <td>2.0</td>\n",
       "      <td>103.0</td>\n",
       "      <td>2849.0</td>\n",
       "      <td>64.0</td>\n",
       "      <td>68.0</td>\n",
       "    </tr>\n",
       "  </tbody>\n",
       "</table>\n",
       "</div>"
      ],
      "text/plain": [
       "            count  total_time  median       mean   min    max  sim_weight  \\\n",
       "Datum                                                                       \n",
       "2019-12-18     29      1426.0    42.0  49.172414   2.0  163.0      3120.0   \n",
       "2019-12-19     22      1386.0    39.5  63.000000   5.0  207.0      2870.0   \n",
       "2019-12-20     27      1475.0    52.0  54.629630   5.0  144.0      2816.0   \n",
       "2019-12-23     14       530.0    31.0  37.857143  11.0   82.0      3577.0   \n",
       "2019-12-27     16       803.0    54.5  50.187500   2.0  103.0      2849.0   \n",
       "\n",
       "            sim_count  sim_value  \n",
       "Datum                             \n",
       "2019-12-18       70.0       74.0  \n",
       "2019-12-19       78.0       84.0  \n",
       "2019-12-20       55.0       61.0  \n",
       "2019-12-23       83.0       83.0  \n",
       "2019-12-27       64.0       68.0  "
      ]
     },
     "execution_count": 39,
     "metadata": {},
     "output_type": "execute_result"
    }
   ],
   "source": [
    "df3.tail()"
   ]
  },
  {
   "cell_type": "code",
   "execution_count": 45,
   "id": "cf5fa6b2",
   "metadata": {},
   "outputs": [
    {
     "name": "stdout",
     "output_type": "stream",
     "text": [
      "\n",
      "\n"
     ]
    },
    {
     "data": {
      "image/png": "[encoded data removed]",
      "text/plain": [
       "<Figure size 720x360 with 2 Axes>"
      ]
     },
     "metadata": {
      "needs_background": "light"
     },
     "output_type": "display_data"
    }
   ],
   "source": [
    "plt.figure(figsize=(10, 5))\n",
    "plt.subplot(1, 2, 1)\n",
    "plt.hist(df3['count'],  bins=max(df3['count'])-min(df3['count']))\n",
    "\n",
    "plt.title('Actual Operations distribution')\n",
    "plt.xlabel('Number of operations per day')\n",
    "plt.ylabel('Frequency')\n",
    "print('')\n",
    "plt.subplot(1, 2, 2)\n",
    "plt.hist(df3['sim_count'],  bins=int(max(df3['sim_count'])-min(df3['sim_count'])))\n",
    "\n",
    "plt.title('Simulation Operations distribution')\n",
    "plt.xlabel('Number of operations per day')\n",
    "plt.ylabel('Frequency')\n",
    "print('')"
   ]
  },
  {
   "cell_type": "code",
   "execution_count": 44,
   "id": "6ade45fa",
   "metadata": {},
   "outputs": [
    {
     "name": "stdout",
     "output_type": "stream",
     "text": [
      "\n",
      "\n"
     ]
    },
    {
     "data": {
      "image/png": "[encoded data removed]",
      "text/plain": [
       "<Figure size 720x360 with 2 Axes>"
      ]
     },
     "metadata": {
      "needs_background": "light"
     },
     "output_type": "display_data"
    }
   ],
   "source": [
    "plt.figure(figsize=(10, 5))\n",
    "plt.subplot(1, 2, 1)\n",
    "plt.hist(df3['total_time'],  bins=50)\n",
    "\n",
    "plt.title('Actual Operations time distribution')\n",
    "plt.xlabel('Total time of operations per day')\n",
    "plt.ylabel('Frequency')\n",
    "print('')\n",
    "plt.subplot(1, 2, 2)\n",
    "plt.hist(df3['sim_weight'],  bins=50)\n",
    "\n",
    "plt.title('Simulation Operations time distribution')\n",
    "plt.xlabel('Total time of operations per day')\n",
    "plt.ylabel('Frequency')\n",
    "print('')"
   ]
  },
  {
   "cell_type": "raw",
   "id": "04b95e63",
   "metadata": {
    "jupyter": {
     "source_hidden": true
    }
   },
   "source": [
    "\n",
    "if status == pywraplp.Solver.OPTIMAL:\n",
    "    print('')\n",
    "    print('...Op rooms capacities')\n",
    "    print(data['bins'],'\\n')\n",
    "    total_weight = 0\n",
    "\n",
    "    for j,c in data['bins']:\n",
    "        bin_weight = 0\n",
    "        bin_value = 0\n",
    "        print('...op room ', j, '\\n')\n",
    "        for i,w,v,d in data['items']:\n",
    "            if x[(d,i, j)].solution_value() > 0:\n",
    "                print('Item', i,'-department:', d, '- weight:', w, ' value:', v)\n",
    "                bin_weight += w\n",
    "                bin_value += v\n",
    "        print('Planned op room time:', bin_weight)\n",
    "        print('Planned op value:', bin_value)\n",
    "        print()\n",
    "        total_weight += bin_weight\n",
    "    print('.........')\n",
    "    print('Total planned op value:', objective.Value())    \n",
    "    print('Total planned op time:', total_weight)\n",
    "    print('Total number of ops:', sum(v.solution_value() for k,v in x.items()))"
   ]
  },
  {
   "cell_type": "raw",
   "id": "4124cc8e",
   "metadata": {
    "jupyter": {
     "source_hidden": true
    }
   },
   "source": [
    "print('dep capacities', data['deps'])\n",
    "print('.....')\n",
    "for dep, dep_cap in data['deps']:\n",
    "    total_weight=0\n",
    "    #print()\n",
    "    for op_room, op_room_cap in data['bins']:\n",
    "        for item,weight,value,department in data['items']:\n",
    "            if dep==department and x[(department,item,op_room)].solution_value()>0:\n",
    "    \n",
    "                total_weight+=weight\n",
    "    print(\"Department\", dep,\":total weight\", total_weight,\"\\n\")\n"
   ]
  },
  {
   "cell_type": "code",
   "execution_count": 42,
   "id": "39f99a73",
   "metadata": {},
   "outputs": [
    {
     "name": "stdout",
     "output_type": "stream",
     "text": [
      "3612 Monday\n",
      "3110 Tuesday\n",
      "3230 Wednesday\n",
      "2892 Thursday\n",
      "2882 Friday\n"
     ]
    }
   ],
   "source": [
    "# Op-room constraints\n",
    "for col in ddf.columns:\n",
    "    print(ddf[col].sum(), col)"
   ]
  },
  {
   "cell_type": "code",
   "execution_count": 43,
   "id": "f07b5d8a",
   "metadata": {},
   "outputs": [
    {
     "name": "stdout",
     "output_type": "stream",
     "text": [
      "3434 Monday\n",
      "3434 Tuesday\n",
      "3434 Wednesday\n",
      "3434 Thursday\n",
      "3313 Friday\n"
     ]
    }
   ],
   "source": [
    "# Department constraints by Jan till July\n",
    "for col in Jan.columns:\n",
    "    print(Jan[col].sum(), col)"
   ]
  },
  {
   "cell_type": "code",
   "execution_count": 36,
   "id": "185b98f9",
   "metadata": {},
   "outputs": [
    {
     "name": "stdout",
     "output_type": "stream",
     "text": [
      "3675 Monday\n",
      "3434 Tuesday\n",
      "3554 Wednesday\n",
      "3555 Thursday\n",
      "3356 Friday\n"
     ]
    }
   ],
   "source": [
    "# Department constraints by July\n",
    "for col in Jul.columns:\n",
    "    print(Jul[col].sum(),col)"
   ]
  },
  {
   "cell_type": "code",
   "execution_count": 61,
   "id": "c24b076c",
   "metadata": {},
   "outputs": [],
   "source": [
    "df.to_csv('./data/ops.csv')"
   ]
  },
  {
   "cell_type": "code",
   "execution_count": null,
   "id": "729c50c3",
   "metadata": {},
   "outputs": [],
   "source": []
  }
 ],
 "metadata": {
  "kernelspec": {
   "display_name": "Python 3",
   "language": "python",
   "name": "python3"
  },
  "language_info": {
   "codemirror_mode": {
    "name": "ipython",
    "version": 3
   },
   "file_extension": ".py",
   "mimetype": "text/x-python",
   "name": "python",
   "nbconvert_exporter": "python",
   "pygments_lexer": "ipython3",
   "version": "3.7.9"
  }
 },
 "nbformat": 4,
 "nbformat_minor": 5
}
