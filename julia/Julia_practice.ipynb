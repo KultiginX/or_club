{
 "cells": [
  {
   "cell_type": "code",
   "execution_count": 8,
   "id": "91c3691a",
   "metadata": {},
   "outputs": [],
   "source": [
    "ENV[\"GUROBI_HOME\"]=\"Library/gurobi912/mac64\"\n",
    "using Pkg\n",
    "Pkg.add(\"Gurobi\")"
   ]
  },
  {
   "cell_type": "code",
   "execution_count": 9,
   "id": "c36f4b0d",
   "metadata": {},
   "outputs": [
    {
     "data": {
      "text/plain": [
       "f (generic function with 1 method)"
      ]
     },
     "execution_count": 9,
     "metadata": {},
     "output_type": "execute_result"
    }
   ],
   "source": [
    "f(x,y)= x^2 + y^2"
   ]
  },
  {
   "cell_type": "code",
   "execution_count": 10,
   "id": "df7597b4",
   "metadata": {},
   "outputs": [
    {
     "data": {
      "text/plain": [
       "13"
      ]
     },
     "execution_count": 10,
     "metadata": {},
     "output_type": "execute_result"
    }
   ],
   "source": [
    "f(2,3)"
   ]
  },
  {
   "cell_type": "code",
   "execution_count": 11,
   "id": "692c7a3a",
   "metadata": {},
   "outputs": [
    {
     "name": "stdout",
     "output_type": "stream",
     "text": [
      "Academic license - for non-commercial use only - expires 2021-08-14\n",
      "Gurobi Optimizer version 9.1.2 build v9.1.2rc0 (mac64)\n",
      "Thread count: 2 physical cores, 4 logical processors, using up to 4 threads\n",
      "Optimize a model with 2 rows, 2 columns and 4 nonzeros\n",
      "Model fingerprint: 0x96c5404e\n",
      "Coefficient statistics:\n",
      "  Matrix range     [2e+01, 5e+01]\n",
      "  Objective range  [1e+00, 1e+00]\n",
      "  Bounds range     [5e+00, 4e+01]\n",
      "  RHS range        [2e+03, 2e+03]\n",
      "Presolve removed 2 rows and 2 columns\n",
      "Presolve time: 0.00s\n",
      "Presolve: All rows and columns removed\n",
      "Iteration    Objective       Primal Inf.    Dual Inf.      Time\n",
      "       0    5.0000000e+01   0.000000e+00   0.000000e+00      0s\n",
      "\n",
      "Solved in 0 iterations and 0.00 seconds\n",
      "Optimal objective  5.000000000e+01\n",
      "\n",
      "User-callback calls 25, time in user-callback 0.00 sec\n",
      "Optective value : 50.0\n",
      "x= 5.0\n",
      "y= 45.0\n"
     ]
    }
   ],
   "source": [
    "using JuMP, Gurobi\n",
    "m = Model(Gurobi.Optimizer)\n",
    "@variable(m, x<=5)\n",
    "@variable(m,y<=45)\n",
    "@objective(m, Max, x+y)\n",
    "@constraint(m,50x + 24y<=2400)\n",
    "@constraint(m,30x + 33y<=2100)\n",
    "\n",
    "JuMP.optimize!(m)\n",
    "println(\"Optective value : \", JuMP.objective_value(m))\n",
    "println(\"x= \", JuMP.value(x))\n",
    "println(\"y= \", JuMP.value(y))"
   ]
  },
  {
   "cell_type": "code",
   "execution_count": 15,
   "id": "c9d0fd97",
   "metadata": {},
   "outputs": [
    {
     "data": {
      "text/plain": [
       "\"Library/gurobi912/mac64\""
      ]
     },
     "execution_count": 15,
     "metadata": {},
     "output_type": "execute_result"
    }
   ],
   "source": [
    "ENV[\"GUROBI_HOME\"]"
   ]
  },
  {
   "cell_type": "code",
   "execution_count": 2,
   "id": "a87f9b9d",
   "metadata": {},
   "outputs": [],
   "source": [
    "ENV[\"CPLEX_STUDIO_BINARIES\"]=\"/Applications/CPLEX_Studio201/cplex/bin/x86-64_osx/\"\n",
    "using Pkg\n",
    "Pkg.add(\"CPLEX\")\n",
    "Pkg.build(\"CPLEX\")"
   ]
  },
  {
   "cell_type": "code",
   "execution_count": 22,
   "id": "9ad62988",
   "metadata": {},
   "outputs": [
    {
     "name": "stdout",
     "output_type": "stream",
     "text": [
      "nothing"
     ]
    }
   ],
   "source": [
    "\n",
    "print(Pkg.status())"
   ]
  },
  {
   "cell_type": "code",
   "execution_count": 9,
   "id": "a0898c18",
   "metadata": {},
   "outputs": [
    {
     "name": "stderr",
     "output_type": "stream",
     "text": [
      "┌ Warning: Pkg.installed() is deprecated\n",
      "└ @ Pkg /Users/julia/buildbot/worker/package_macos64/build/usr/share/julia/stdlib/v1.6/Pkg/src/Pkg.jl:566\n"
     ]
    },
    {
     "data": {
      "text/plain": [
       "Dict{String, VersionNumber} with 5 entries:\n",
       "  \"GLPK\"   => v\"0.14.12\"\n",
       "  \"IJulia\" => v\"1.23.2\"\n",
       "  \"Gurobi\" => v\"0.9.13\"\n",
       "  \"CPLEX\"  => v\"0.7.7\"\n",
       "  \"JuMP\"   => v\"0.21.8\""
      ]
     },
     "execution_count": 9,
     "metadata": {},
     "output_type": "execute_result"
    }
   ],
   "source": [
    "#Pkg.dependencies()\n",
    "Pkg.installed()"
   ]
  },
  {
   "cell_type": "code",
   "execution_count": 5,
   "id": "a413ffc0",
   "metadata": {},
   "outputs": [
    {
     "name": "stdout",
     "output_type": "stream",
     "text": [
      "search:  ] [ = $ ; ( { ) ? . } ⊻ ⊋ ⊊ ⊉ ⊈ ⊇ ⊆ ≥ ≤ ≢ ≡ ≠ ≉ ≈ ∪ ∩ ∛ √ ∘ ∌ ∋ ∉ ∈ ℯ π\n",
      "\n"
     ]
    },
    {
     "data": {
      "text/latex": [
       "\\textbf{Welcome to Julia 1.6.1.} The full manual is available at\n",
       "\n",
       "\\begin{verbatim}\n",
       "https://docs.julialang.org\n",
       "\\end{verbatim}\n",
       "as well as many great tutorials and learning resources:\n",
       "\n",
       "\\begin{verbatim}\n",
       "https://julialang.org/learning/\n",
       "\\end{verbatim}\n",
       "For help on a specific function or macro, type \\texttt{?} followed by its name, e.g. \\texttt{?cos}, or \\texttt{?@time}, and press enter. Type \\texttt{;} to enter shell mode, \\texttt{]} to enter package mode.\n",
       "\n"
      ],
      "text/markdown": [
       "**Welcome to Julia 1.6.1.** The full manual is available at\n",
       "\n",
       "```\n",
       "https://docs.julialang.org\n",
       "```\n",
       "\n",
       "as well as many great tutorials and learning resources:\n",
       "\n",
       "```\n",
       "https://julialang.org/learning/\n",
       "```\n",
       "\n",
       "For help on a specific function or macro, type `?` followed by its name, e.g. `?cos`, or `?@time`, and press enter. Type `;` to enter shell mode, `]` to enter package mode.\n"
      ],
      "text/plain": [
       "  \u001b[1mWelcome to Julia 1.6.1.\u001b[22m The full manual is available at\n",
       "\n",
       "\u001b[36m  https://docs.julialang.org\u001b[39m\n",
       "\n",
       "  as well as many great tutorials and learning resources:\n",
       "\n",
       "\u001b[36m  https://julialang.org/learning/\u001b[39m\n",
       "\n",
       "  For help on a specific function or macro, type \u001b[36m?\u001b[39m followed by its name, e.g.\n",
       "  \u001b[36m?cos\u001b[39m, or \u001b[36m?@time\u001b[39m, and press enter. Type \u001b[36m;\u001b[39m to enter shell mode, \u001b[36m]\u001b[39m to enter\n",
       "  package mode."
      ]
     },
     "execution_count": 5,
     "metadata": {},
     "output_type": "execute_result"
    }
   ],
   "source": [
    "?\n"
   ]
  },
  {
   "cell_type": "code",
   "execution_count": 18,
   "id": "f52a155b",
   "metadata": {},
   "outputs": [
    {
     "name": "stdout",
     "output_type": "stream",
     "text": [
      "Version identifier: 20.1.0.0 | 2020-11-10 | 9bedb6d68\n",
      "Tried aggregator 1 time.\n",
      "No LP presolve or aggregator reductions.\n",
      "Presolve time = 0.01 sec. (0.00 ticks)\n",
      "\n",
      "Iteration log . . .\n",
      "Iteration:     1   Dual objective     =            81.818182\n",
      "Optective value : 66.45161290322581\n",
      "x= 30.967741935483872\n",
      "y= 35.483870967741936\n"
     ]
    }
   ],
   "source": [
    "using JuMP, CPLEX\n",
    "\n",
    "m = Model(CPLEX.Optimizer)\n",
    "@variable(m, x<=200)\n",
    "@variable(m,y<=45)\n",
    "@objective(m, Max, x+y)\n",
    "@constraint(m,50x + 24y<=2400)\n",
    "@constraint(m,30x + 33y<=2100)\n",
    "\n",
    "JuMP.optimize!(m)\n",
    "println(\"Optective value : \", JuMP.objective_value(m))\n",
    "println(\"x= \", JuMP.value(x))\n",
    "println(\"y= \", JuMP.value(y))"
   ]
  },
  {
   "cell_type": "code",
   "execution_count": 26,
   "id": "74ebaf54",
   "metadata": {},
   "outputs": [],
   "source": [
    "ENV[\"PYTHON\"]=\"\"\n",
    "using Pkg\n",
    "Pkg.add(\"PyPlot\")\n",
    "\n"
   ]
  },
  {
   "cell_type": "raw",
   "id": "6af34100",
   "metadata": {},
   "source": [
    "ENV[\"PYTHON\"]=\"\"\n",
    "Pkg.build(\"PyCall\")"
   ]
  },
  {
   "cell_type": "code",
   "execution_count": 33,
   "id": "092a552f",
   "metadata": {},
   "outputs": [
    {
     "data": {
      "image/png": "[encoded data removed]",
      "text/plain": [
       "Figure(PyObject <Figure size 640x480 with 1 Axes>)"
      ]
     },
     "metadata": {},
     "output_type": "display_data"
    },
    {
     "data": {
      "text/plain": [
       "1-element Vector{PyCall.PyObject}:\n",
       " PyObject <matplotlib.lines.Line2D object at 0x7f96c77497f0>"
      ]
     },
     "execution_count": 33,
     "metadata": {},
     "output_type": "execute_result"
    }
   ],
   "source": [
    "using PyPlot\n",
    "x= range(0, stop=2*pi, length=1000)\n",
    "y=sin.(3*x)\n",
    "plot(x,y, color=\"blue\", linewidth=\"2.0\", linestyle=\"--\")"
   ]
  },
  {
   "cell_type": "code",
   "execution_count": null,
   "id": "598fa967",
   "metadata": {},
   "outputs": [],
   "source": []
  }
 ],
 "metadata": {
  "kernelspec": {
   "display_name": "Julia 1.6.1",
   "language": "julia",
   "name": "julia-1.6"
  },
  "language_info": {
   "file_extension": ".jl",
   "mimetype": "application/julia",
   "name": "julia",
   "version": "1.6.1"
  }
 },
 "nbformat": 4,
 "nbformat_minor": 5
}
