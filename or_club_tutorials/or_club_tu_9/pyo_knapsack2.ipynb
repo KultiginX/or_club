{
 "cells": [
  {
   "cell_type": "code",
   "execution_count": 139,
   "metadata": {},
   "outputs": [],
   "source": [
    "\n",
    "import datetime as dt\n",
    "import pyomo.environ as pyo\n",
    "import pandas as pd\n",
    "import os.path"
   ]
  },
  {
   "cell_type": "code",
   "execution_count": 130,
   "metadata": {},
   "outputs": [],
   "source": [
    "# Datum entry\n",
    "datum=\"2021 11 24\" # provide year, month, day as a script with spaces or select from the calendar\n",
    "datum = dt.datetime.strptime(datum, '%Y %m %d').date()\n",
    "today = dt.date.today()\n",
    "\n",
    "\n",
    "if datum<today:\n",
    "    print(\"You selected a day in the past.\")\n"
   ]
  },
  {
   "cell_type": "code",
   "execution_count": 390,
   "metadata": {},
   "outputs": [],
   "source": [
    "## inputs we can create a table or sth similar\n",
    "\n",
    "# department ids\n",
    "deps=['CH1', 'CH2', 'CH3', 'HT', 'IM1', 'IM2', 'OR1', 'OR2']\n",
    "\n",
    "# Departments capacities\n",
    "deps_cap=[660, 435, 600,260,0, 825, 930,0]\n",
    "\n",
    "dep_df=pd.DataFrame(zip(deps,deps_cap), columns=['dep_name','dep_cap'])\n",
    "\n",
    "# operation room ids\n",
    "op_rooms_id={0:\"HLK1\",1:\"HLK2\",2:\"OP1\",3:\"OP2\",4:\"OP3\",5:\"OP4\",6:\"OP5\",7:\"OP6\"}\n",
    "#op_rooms_id=[0,1,2,3,4,5,6,7]\n",
    "\n",
    "# Operation rooms capacities\n",
    "op_rooms_cap=[435, 390, 555, 555 ,555,435,435,320]\n",
    "\n",
    "op_df=pd.DataFrame(zip(op_rooms_id.values(),op_rooms_cap), columns=[\"op_room_name\",\"op_room_cap\"])\n",
    "\n"
   ]
  },
  {
   "cell_type": "code",
   "execution_count": 391,
   "metadata": {},
   "outputs": [
    {
     "data": {
      "text/html": [
       "<div>\n",
       "<style scoped>\n",
       "    .dataframe tbody tr th:only-of-type {\n",
       "        vertical-align: middle;\n",
       "    }\n",
       "\n",
       "    .dataframe tbody tr th {\n",
       "        vertical-align: top;\n",
       "    }\n",
       "\n",
       "    .dataframe thead th {\n",
       "        text-align: right;\n",
       "    }\n",
       "</style>\n",
       "<table border=\"1\" class=\"dataframe\">\n",
       "  <thead>\n",
       "    <tr style=\"text-align: right;\">\n",
       "      <th></th>\n",
       "      <th>op_room_name</th>\n",
       "      <th>op_room_cap</th>\n",
       "    </tr>\n",
       "  </thead>\n",
       "  <tbody>\n",
       "    <tr>\n",
       "      <th>0</th>\n",
       "      <td>HLK1</td>\n",
       "      <td>435</td>\n",
       "    </tr>\n",
       "    <tr>\n",
       "      <th>1</th>\n",
       "      <td>HLK2</td>\n",
       "      <td>390</td>\n",
       "    </tr>\n",
       "    <tr>\n",
       "      <th>2</th>\n",
       "      <td>OP1</td>\n",
       "      <td>555</td>\n",
       "    </tr>\n",
       "    <tr>\n",
       "      <th>3</th>\n",
       "      <td>OP2</td>\n",
       "      <td>555</td>\n",
       "    </tr>\n",
       "    <tr>\n",
       "      <th>4</th>\n",
       "      <td>OP3</td>\n",
       "      <td>555</td>\n",
       "    </tr>\n",
       "    <tr>\n",
       "      <th>5</th>\n",
       "      <td>OP4</td>\n",
       "      <td>435</td>\n",
       "    </tr>\n",
       "    <tr>\n",
       "      <th>6</th>\n",
       "      <td>OP5</td>\n",
       "      <td>435</td>\n",
       "    </tr>\n",
       "    <tr>\n",
       "      <th>7</th>\n",
       "      <td>OP6</td>\n",
       "      <td>320</td>\n",
       "    </tr>\n",
       "  </tbody>\n",
       "</table>\n",
       "</div>"
      ],
      "text/plain": [
       "  op_room_name  op_room_cap\n",
       "0         HLK1          435\n",
       "1         HLK2          390\n",
       "2          OP1          555\n",
       "3          OP2          555\n",
       "4          OP3          555\n",
       "5          OP4          435\n",
       "6          OP5          435\n",
       "7          OP6          320"
      ]
     },
     "execution_count": 391,
     "metadata": {},
     "output_type": "execute_result"
    }
   ],
   "source": [
    "op_df"
   ]
  },
  {
   "cell_type": "code",
   "execution_count": 392,
   "metadata": {},
   "outputs": [
    {
     "data": {
      "text/html": [
       "<div>\n",
       "<style scoped>\n",
       "    .dataframe tbody tr th:only-of-type {\n",
       "        vertical-align: middle;\n",
       "    }\n",
       "\n",
       "    .dataframe tbody tr th {\n",
       "        vertical-align: top;\n",
       "    }\n",
       "\n",
       "    .dataframe thead th {\n",
       "        text-align: right;\n",
       "    }\n",
       "</style>\n",
       "<table border=\"1\" class=\"dataframe\">\n",
       "  <thead>\n",
       "    <tr style=\"text-align: right;\">\n",
       "      <th></th>\n",
       "      <th>dep_name</th>\n",
       "      <th>dep_cap</th>\n",
       "    </tr>\n",
       "  </thead>\n",
       "  <tbody>\n",
       "    <tr>\n",
       "      <th>0</th>\n",
       "      <td>CH1</td>\n",
       "      <td>660</td>\n",
       "    </tr>\n",
       "    <tr>\n",
       "      <th>1</th>\n",
       "      <td>CH2</td>\n",
       "      <td>435</td>\n",
       "    </tr>\n",
       "    <tr>\n",
       "      <th>2</th>\n",
       "      <td>CH3</td>\n",
       "      <td>600</td>\n",
       "    </tr>\n",
       "    <tr>\n",
       "      <th>3</th>\n",
       "      <td>HT</td>\n",
       "      <td>260</td>\n",
       "    </tr>\n",
       "    <tr>\n",
       "      <th>4</th>\n",
       "      <td>IM1</td>\n",
       "      <td>0</td>\n",
       "    </tr>\n",
       "    <tr>\n",
       "      <th>5</th>\n",
       "      <td>IM2</td>\n",
       "      <td>825</td>\n",
       "    </tr>\n",
       "    <tr>\n",
       "      <th>6</th>\n",
       "      <td>OR1</td>\n",
       "      <td>930</td>\n",
       "    </tr>\n",
       "    <tr>\n",
       "      <th>7</th>\n",
       "      <td>OR2</td>\n",
       "      <td>0</td>\n",
       "    </tr>\n",
       "  </tbody>\n",
       "</table>\n",
       "</div>"
      ],
      "text/plain": [
       "  dep_name  dep_cap\n",
       "0      CH1      660\n",
       "1      CH2      435\n",
       "2      CH3      600\n",
       "3       HT      260\n",
       "4      IM1        0\n",
       "5      IM2      825\n",
       "6      OR1      930\n",
       "7      OR2        0"
      ]
     },
     "execution_count": 392,
     "metadata": {},
     "output_type": "execute_result"
    }
   ],
   "source": [
    "dep_df"
   ]
  },
  {
   "cell_type": "code",
   "execution_count": 394,
   "metadata": {},
   "outputs": [
    {
     "name": "stdout",
     "output_type": "stream",
     "text": [
      "it is there\n"
     ]
    },
    {
     "data": {
      "text/html": [
       "<div>\n",
       "<style scoped>\n",
       "    .dataframe tbody tr th:only-of-type {\n",
       "        vertical-align: middle;\n",
       "    }\n",
       "\n",
       "    .dataframe tbody tr th {\n",
       "        vertical-align: top;\n",
       "    }\n",
       "\n",
       "    .dataframe thead th {\n",
       "        text-align: right;\n",
       "    }\n",
       "</style>\n",
       "<table border=\"1\" class=\"dataframe\">\n",
       "  <thead>\n",
       "    <tr style=\"text-align: right;\">\n",
       "      <th></th>\n",
       "      <th>Abteilungs-ID</th>\n",
       "      <th>ops</th>\n",
       "      <th>weight</th>\n",
       "      <th>value</th>\n",
       "      <th>op_room_id</th>\n",
       "    </tr>\n",
       "    <tr>\n",
       "      <th>operation_id</th>\n",
       "      <th></th>\n",
       "      <th></th>\n",
       "      <th></th>\n",
       "      <th></th>\n",
       "      <th></th>\n",
       "    </tr>\n",
       "  </thead>\n",
       "  <tbody>\n",
       "    <tr>\n",
       "      <th>op_or1_07</th>\n",
       "      <td>CH1</td>\n",
       "      <td>xxxx</td>\n",
       "      <td>70</td>\n",
       "      <td>3</td>\n",
       "      <td>OP2</td>\n",
       "    </tr>\n",
       "  </tbody>\n",
       "</table>\n",
       "</div>"
      ],
      "text/plain": [
       "             Abteilungs-ID   ops  weight  value op_room_id\n",
       "operation_id                                              \n",
       "op_or1_07              CH1  xxxx      70      3        OP2"
      ]
     },
     "execution_count": 394,
     "metadata": {},
     "output_type": "execute_result"
    }
   ],
   "source": [
    "\n",
    "if os.path.isfile(f'{datum}.csv'):   \n",
    "    print(\"it is there\")\n",
    "    basket=pd.read_csv(f'{datum}.csv', index_col=\"operation_id\")\n",
    "else:\n",
    "    # we create an empty dataframe only first time\n",
    "    basket=pd.DataFrame(columns=['Abteilungs-ID','ops','weight','value',\"op_room_id\"])\n",
    "    basket.index.name = 'operation_id'\n",
    "\n",
    "#output\n",
    "basket.tail()"
   ]
  },
  {
   "cell_type": "code",
   "execution_count": 395,
   "metadata": {},
   "outputs": [],
   "source": [
    "# We populate basket with 5 cells: index, Abteilung-ID, ops, value, weight\n",
    "# Every entry will be recorded in this table. \n",
    "\n",
    "\n",
    "ind=\"op_or1_01\" # this id can be provided by the departments\n",
    "basket.loc[ind,'ops']=str(\"xxxx\") # codes of the operations to be done\n",
    "basket.loc[ind,'Abteilungs-ID']=str('CH1') # name the Department who is asking for the operation\n",
    "basket.loc[ind,'value']=int(3) # importance or the urgency of the operation\n",
    "basket.loc[ind, 'weight']=int(90) # in minutes\n",
    "\n"
   ]
  },
  {
   "cell_type": "code",
   "execution_count": 396,
   "metadata": {},
   "outputs": [
    {
     "data": {
      "text/html": [
       "<div>\n",
       "<style scoped>\n",
       "    .dataframe tbody tr th:only-of-type {\n",
       "        vertical-align: middle;\n",
       "    }\n",
       "\n",
       "    .dataframe tbody tr th {\n",
       "        vertical-align: top;\n",
       "    }\n",
       "\n",
       "    .dataframe thead th {\n",
       "        text-align: right;\n",
       "    }\n",
       "</style>\n",
       "<table border=\"1\" class=\"dataframe\">\n",
       "  <thead>\n",
       "    <tr style=\"text-align: right;\">\n",
       "      <th></th>\n",
       "      <th>Abteilungs-ID</th>\n",
       "      <th>ops</th>\n",
       "      <th>weight</th>\n",
       "      <th>value</th>\n",
       "      <th>op_room_id</th>\n",
       "    </tr>\n",
       "    <tr>\n",
       "      <th>operation_id</th>\n",
       "      <th></th>\n",
       "      <th></th>\n",
       "      <th></th>\n",
       "      <th></th>\n",
       "      <th></th>\n",
       "    </tr>\n",
       "  </thead>\n",
       "  <tbody>\n",
       "    <tr>\n",
       "      <th>op_or1_07</th>\n",
       "      <td>CH1</td>\n",
       "      <td>xxxx</td>\n",
       "      <td>70.0</td>\n",
       "      <td>3.0</td>\n",
       "      <td>OP2</td>\n",
       "    </tr>\n",
       "    <tr>\n",
       "      <th>op_or1_01</th>\n",
       "      <td>CH1</td>\n",
       "      <td>xxxx</td>\n",
       "      <td>90.0</td>\n",
       "      <td>3.0</td>\n",
       "      <td>NaN</td>\n",
       "    </tr>\n",
       "  </tbody>\n",
       "</table>\n",
       "</div>"
      ],
      "text/plain": [
       "             Abteilungs-ID   ops  weight  value op_room_id\n",
       "operation_id                                              \n",
       "op_or1_07              CH1  xxxx    70.0    3.0        OP2\n",
       "op_or1_01              CH1  xxxx    90.0    3.0        NaN"
      ]
     },
     "execution_count": 396,
     "metadata": {},
     "output_type": "execute_result"
    }
   ],
   "source": [
    "# show last 5 entries (output)\n",
    "basket.tail()"
   ]
  },
  {
   "cell_type": "code",
   "execution_count": 397,
   "metadata": {},
   "outputs": [
    {
     "name": "stdout",
     "output_type": "stream",
     "text": [
      "160.0\n"
     ]
    }
   ],
   "source": [
    "# output\n",
    "basket_weight=sum(basket['weight'])\n",
    "print(basket_weight)"
   ]
  },
  {
   "cell_type": "code",
   "execution_count": 373,
   "metadata": {},
   "outputs": [],
   "source": [
    "\n",
    "\n",
    "#Create the data for the optimization\n",
    "data = {}\n",
    "\n",
    "w = list(basket['weight'])\n",
    "v = list(basket['value'])\n",
    "d= list(basket['Abteilungs-ID'])\n",
    "l=list(basket.index)\n",
    "items=list(zip(l,d,w,v)) # item_no, weight, value, department\n",
    "\n",
    "\n",
    "data['items'] = items\n",
    "\n",
    "\n",
    "data['bins'] = list(zip(op_rooms_id.keys(),op_rooms_cap))\n",
    "data['bin_capacities'] = op_rooms_cap\n",
    "\n",
    "\n",
    "\n",
    "data['deps'] = list(zip(deps,deps_cap))\n",
    "data['dep_capacities'] = deps_cap\n"
   ]
  },
  {
   "cell_type": "code",
   "execution_count": 374,
   "metadata": {},
   "outputs": [
    {
     "data": {
      "text/plain": [
       "{'items': [('op_or1_07', 'CH1', 70, 3)],\n",
       " 'bins': [(0, 435),\n",
       "  (1, 390),\n",
       "  (2, 555),\n",
       "  (3, 555),\n",
       "  (4, 555),\n",
       "  (5, 435),\n",
       "  (6, 435),\n",
       "  (7, 320)],\n",
       " 'bin_capacities': [435, 390, 555, 555, 555, 435, 435, 320],\n",
       " 'deps': [('CH1', 660),\n",
       "  ('CH2', 435),\n",
       "  ('CH3', 600),\n",
       "  ('HT', 260),\n",
       "  ('IM1', 0),\n",
       "  ('IM2', 825),\n",
       "  ('OR1', 930),\n",
       "  ('OR2', 0)],\n",
       " 'dep_capacities': [660, 435, 600, 260, 0, 825, 930, 0]}"
      ]
     },
     "execution_count": 374,
     "metadata": {},
     "output_type": "execute_result"
    }
   ],
   "source": [
    "data"
   ]
  },
  {
   "cell_type": "code",
   "execution_count": 375,
   "metadata": {},
   "outputs": [
    {
     "data": {
      "text/plain": [
       "[0, 1, 2, 3, 4, 5, 6, 7]"
      ]
     },
     "execution_count": 375,
     "metadata": {},
     "output_type": "execute_result"
    }
   ],
   "source": [
    "list(k[0] for k in data['bins'])"
   ]
  },
  {
   "cell_type": "code",
   "execution_count": 376,
   "metadata": {},
   "outputs": [],
   "source": [
    "# multi-knapsack, integer divisible\n",
    "\n",
    "mdl = pyo.ConcreteModel()\n",
    "\n",
    "# sets\n",
    "mdl.invs = pyo.Set(initialize=data['items'])\n",
    "mdl.bins = pyo.Set(initialize=list(k[0] for k in data['bins']))\n",
    "mdl.deps = pyo.Set(initialize=list(k[0] for k in data['deps']))\n",
    "\n",
    "# params\n",
    "mdl.value   = pyo.Param(mdl.invs, initialize= {k:k[3] for k in data['items']})\n",
    "mdl.weight  = pyo.Param(mdl.invs, initialize= {k:k[2] for k in data['items']})\n",
    "mdl.bin_cap = pyo.Param(mdl.bins, initialize= {k[0]:k[1] for k in data['bins']})\n",
    "mdl.dep_cap = pyo.Param(mdl.deps, initialize= {k[0]:k[1] for k in data['deps']})\n",
    "\n"
   ]
  },
  {
   "cell_type": "code",
   "execution_count": 377,
   "metadata": {},
   "outputs": [
    {
     "data": {
      "text/plain": [
       "[('op_or1_07', 'CH1', 70, 3)]"
      ]
     },
     "execution_count": 377,
     "metadata": {},
     "output_type": "execute_result"
    }
   ],
   "source": [
    "list(mdl.invs)"
   ]
  },
  {
   "cell_type": "code",
   "execution_count": 378,
   "metadata": {},
   "outputs": [],
   "source": [
    "# vars\n",
    "mdl.X = pyo.Var(mdl.invs, mdl.bins, within=pyo.Binary)     # the amount from invoice i in bin j\n"
   ]
  },
  {
   "cell_type": "code",
   "execution_count": 379,
   "metadata": {},
   "outputs": [
    {
     "data": {
      "text/plain": [
       "[('op_or1_07', 'CH1', 70, 3, 0),\n",
       " ('op_or1_07', 'CH1', 70, 3, 1),\n",
       " ('op_or1_07', 'CH1', 70, 3, 2),\n",
       " ('op_or1_07', 'CH1', 70, 3, 3),\n",
       " ('op_or1_07', 'CH1', 70, 3, 4),\n",
       " ('op_or1_07', 'CH1', 70, 3, 5),\n",
       " ('op_or1_07', 'CH1', 70, 3, 6),\n",
       " ('op_or1_07', 'CH1', 70, 3, 7)]"
      ]
     },
     "execution_count": 379,
     "metadata": {},
     "output_type": "execute_result"
    }
   ],
   "source": [
    "list(mdl.X)"
   ]
  },
  {
   "cell_type": "code",
   "execution_count": 380,
   "metadata": {},
   "outputs": [],
   "source": [
    "\n",
    "### Objective ###\n",
    "\n",
    "mdl.OBJ = pyo.Objective(expr=sum(mdl.X[i, b]*mdl.value[i] for \n",
    "                        i in mdl.invs for\n",
    "                        b in mdl.bins), sense=pyo.maximize)\n",
    "\n"
   ]
  },
  {
   "cell_type": "code",
   "execution_count": 381,
   "metadata": {},
   "outputs": [],
   "source": [
    "### constraints ###\n",
    "\n",
    "# don't overstuff bin\n",
    "def bin_limit(self, b):\n",
    "    return sum(mdl.X[i, b]*int(i[2]) for i in mdl.invs) <= mdl.bin_cap[b]\n",
    "mdl.c1 = pyo.Constraint(mdl.bins, rule=bin_limit)\n",
    "\n"
   ]
  },
  {
   "cell_type": "code",
   "execution_count": 382,
   "metadata": {},
   "outputs": [],
   "source": [
    "# don't overstuff dep\n",
    "def dep_limit(self, d):\n",
    "    summe=0\n",
    "    for b in bins:\n",
    "        summe+= sum(mdl.X[i,b]*i[2] for i in mdl.invs ) \n",
    "    return(summe<= mdl.dep_cap[d])\n",
    "mdl.c4 = pyo.Constraint(mdl.deps, rule=dep_limit)\n"
   ]
  },
  {
   "cell_type": "code",
   "execution_count": 383,
   "metadata": {},
   "outputs": [],
   "source": [
    "# one_item can be only in a single op room.\n",
    "def one_item(self, i,d,w,v):\n",
    "    return sum(mdl.X[i,d,w,v,b] for b in mdl.bins) <=1\n",
    "mdl.c2 = pyo.Constraint(mdl.invs, rule=one_item)"
   ]
  },
  {
   "cell_type": "code",
   "execution_count": 384,
   "metadata": {},
   "outputs": [
    {
     "name": "stdout",
     "output_type": "stream",
     "text": [
      "Model unknown\n",
      "\n",
      "  Variables:\n",
      "    X : Size=8, Index=X_index\n",
      "        Key                            : Lower : Value : Upper : Fixed : Stale : Domain\n",
      "        ('op_or1_07', 'CH1', 70, 3, 0) :     0 :   1.0 :     1 : False : False : Binary\n",
      "        ('op_or1_07', 'CH1', 70, 3, 1) :     0 :   0.0 :     1 : False : False : Binary\n",
      "        ('op_or1_07', 'CH1', 70, 3, 2) :     0 :   0.0 :     1 : False : False : Binary\n",
      "        ('op_or1_07', 'CH1', 70, 3, 3) :     0 :   0.0 :     1 : False : False : Binary\n",
      "        ('op_or1_07', 'CH1', 70, 3, 4) :     0 :   0.0 :     1 : False : False : Binary\n",
      "        ('op_or1_07', 'CH1', 70, 3, 5) :     0 :   0.0 :     1 : False : False : Binary\n",
      "        ('op_or1_07', 'CH1', 70, 3, 6) :     0 :   0.0 :     1 : False : False : Binary\n",
      "        ('op_or1_07', 'CH1', 70, 3, 7) :     0 :   0.0 :     1 : False : False : Binary\n",
      "\n",
      "  Objectives:\n",
      "    OBJ : Size=1, Index=None, Active=True\n",
      "        Key  : Active : Value\n",
      "        None :   True :   3.0\n",
      "\n",
      "  Constraints:\n",
      "    c1 : Size=8\n",
      "        Key : Lower : Body : Upper\n",
      "          0 :  None : 70.0 : 435.0\n",
      "          1 :  None :  0.0 : 390.0\n",
      "          2 :  None :  0.0 : 555.0\n",
      "          3 :  None :  0.0 : 555.0\n",
      "          4 :  None :  0.0 : 555.0\n",
      "          5 :  None :  0.0 : 435.0\n",
      "          6 :  None :  0.0 : 435.0\n",
      "          7 :  None :  0.0 : 320.0\n",
      "    c4 : Size=8\n",
      "        Key : Lower : Body : Upper\n",
      "        CH1 :  None :  0.0 : 660.0\n",
      "        CH2 :  None :  0.0 : 435.0\n",
      "        CH3 :  None :  0.0 : 600.0\n",
      "         HT :  None :  0.0 : 260.0\n",
      "        IM1 :  None :  0.0 :   0.0\n",
      "        IM2 :  None :  0.0 : 825.0\n",
      "        OR1 :  None :  0.0 : 930.0\n",
      "        OR2 :  None :  0.0 :   0.0\n",
      "    c2 : Size=1\n",
      "        Key                         : Lower : Body : Upper\n",
      "        ('op_or1_07', 'CH1', 70, 3) :  None :  1.0 :   1.0\n"
     ]
    }
   ],
   "source": [
    "\n",
    "# solve it...\n",
    "solver = pyo.SolverFactory('glpk')\n",
    "results = solver.solve(mdl)\n",
    "#mdl.X.display()\n",
    "mdl.display()"
   ]
  },
  {
   "cell_type": "code",
   "execution_count": 388,
   "metadata": {},
   "outputs": [],
   "source": [
    "for i in mdl.X:\n",
    "    if pyo.value(mdl.X[i])>=1:\n",
    "        basket.loc[i[0],\"op_room_id\"]=op_rooms_id[i[3]]"
   ]
  },
  {
   "cell_type": "code",
   "execution_count": 389,
   "metadata": {},
   "outputs": [
    {
     "data": {
      "text/html": [
       "<div>\n",
       "<style scoped>\n",
       "    .dataframe tbody tr th:only-of-type {\n",
       "        vertical-align: middle;\n",
       "    }\n",
       "\n",
       "    .dataframe tbody tr th {\n",
       "        vertical-align: top;\n",
       "    }\n",
       "\n",
       "    .dataframe thead th {\n",
       "        text-align: right;\n",
       "    }\n",
       "</style>\n",
       "<table border=\"1\" class=\"dataframe\">\n",
       "  <thead>\n",
       "    <tr style=\"text-align: right;\">\n",
       "      <th></th>\n",
       "      <th>Abteilungs-ID</th>\n",
       "      <th>ops</th>\n",
       "      <th>weight</th>\n",
       "      <th>value</th>\n",
       "      <th>op_room_id</th>\n",
       "    </tr>\n",
       "    <tr>\n",
       "      <th>operation_id</th>\n",
       "      <th></th>\n",
       "      <th></th>\n",
       "      <th></th>\n",
       "      <th></th>\n",
       "      <th></th>\n",
       "    </tr>\n",
       "  </thead>\n",
       "  <tbody>\n",
       "    <tr>\n",
       "      <th>op_or1_07</th>\n",
       "      <td>CH1</td>\n",
       "      <td>xxxx</td>\n",
       "      <td>70</td>\n",
       "      <td>3</td>\n",
       "      <td>OP2</td>\n",
       "    </tr>\n",
       "  </tbody>\n",
       "</table>\n",
       "</div>"
      ],
      "text/plain": [
       "             Abteilungs-ID   ops weight value op_room_id\n",
       "operation_id                                            \n",
       "op_or1_07              CH1  xxxx     70     3        OP2"
      ]
     },
     "execution_count": 389,
     "metadata": {},
     "output_type": "execute_result"
    }
   ],
   "source": [
    "basket.tail(30)"
   ]
  },
  {
   "cell_type": "code",
   "execution_count": 393,
   "metadata": {},
   "outputs": [],
   "source": [
    "basket.to_csv(f'{datum}.csv', index=True)"
   ]
  },
  {
   "cell_type": "code",
   "execution_count": null,
   "metadata": {},
   "outputs": [],
   "source": []
  },
  {
   "cell_type": "code",
   "execution_count": null,
   "metadata": {},
   "outputs": [],
   "source": []
  }
 ],
 "metadata": {
  "kernelspec": {
   "display_name": "Python 3",
   "language": "python",
   "name": "python3"
  },
  "language_info": {
   "codemirror_mode": {
    "name": "ipython",
    "version": 3
   },
   "file_extension": ".py",
   "mimetype": "text/x-python",
   "name": "python",
   "nbconvert_exporter": "python",
   "pygments_lexer": "ipython3",
   "version": "3.7.7"
  }
 },
 "nbformat": 4,
 "nbformat_minor": 4
}
