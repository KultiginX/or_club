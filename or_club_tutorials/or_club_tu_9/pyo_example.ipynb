{
 "cells": [
  {
   "cell_type": "code",
   "execution_count": null,
   "metadata": {},
   "outputs": [],
   "source": []
  },
  {
   "cell_type": "code",
   "execution_count": 1,
   "metadata": {},
   "outputs": [
    {
     "name": "stdout",
     "output_type": "stream",
     "text": [
      "X : Size=15, Index=X_index\n",
      "    Key    : Lower : Value : Upper : Fixed : Stale : Domain\n",
      "    (1, 1) :     0 :   0.0 :  None : False : False : NonNegativeIntegers\n",
      "    (1, 2) :     0 :   0.0 :  None : False : False : NonNegativeIntegers\n",
      "    (1, 3) :     0 :   0.0 :  None : False : False : NonNegativeIntegers\n",
      "    (2, 1) :     0 :   6.0 :  None : False : False : NonNegativeIntegers\n",
      "    (2, 2) :     0 :   0.0 :  None : False : False : NonNegativeIntegers\n",
      "    (2, 3) :     0 :  14.0 :  None : False : False : NonNegativeIntegers\n",
      "    (3, 1) :     0 :   0.0 :  None : False : False : NonNegativeIntegers\n",
      "    (3, 2) :     0 :   0.0 :  None : False : False : NonNegativeIntegers\n",
      "    (3, 3) :     0 :   0.0 :  None : False : False : NonNegativeIntegers\n",
      "    (4, 1) :     0 :   0.0 :  None : False : False : NonNegativeIntegers\n",
      "    (4, 2) :     0 :   0.0 :  None : False : False : NonNegativeIntegers\n",
      "    (4, 3) :     0 :   0.0 :  None : False : False : NonNegativeIntegers\n",
      "    (5, 1) :     0 :   0.0 :  None : False : False : NonNegativeIntegers\n",
      "    (5, 2) :     0 :  10.0 :  None : False : False : NonNegativeIntegers\n",
      "    (5, 3) :     0 :   0.0 :  None : False : False : NonNegativeIntegers\n"
     ]
    }
   ],
   "source": [
    "# multi-knapsack, integer divisible\n",
    "\n",
    "import pyomo.environ as pyo\n",
    "\n",
    "#           item:   value, weight\n",
    "data = {    1:      (20, 10),\n",
    "            2:      (30, 20),\n",
    "            3:      (40, 5),\n",
    "            4:      (5, 10),\n",
    "            5:      (100, 10)}\n",
    "#           bin:    capacity\n",
    "bins = {    1:      8,\n",
    "            2:      12,\n",
    "            3:      14}\n",
    "\n",
    "prohibited = {(5, 1), (3, 2)}   # (item:bin) that are prohibited.\n",
    "\n",
    "mdl = pyo.ConcreteModel()\n",
    "\n",
    "# sets\n",
    "mdl.invs = pyo.Set(initialize=data.keys())\n",
    "mdl.bins = pyo.Set(initialize=bins.keys())\n",
    "mdl.prohibited = pyo.Set(within=mdl.invs*mdl.bins, initialize=prohibited)\n",
    "\n",
    "# params\n",
    "mdl.value   = pyo.Param(mdl.invs, initialize= {k:data[k][0] for k in data})\n",
    "mdl.weight  = pyo.Param(mdl.invs, initialize= {k:data[k][1] for k in data})\n",
    "mdl.bin_cap = pyo.Param(mdl.bins, initialize= bins)\n",
    "\n",
    "# vars\n",
    "mdl.X = pyo.Var(mdl.invs, mdl.bins, domain=pyo.NonNegativeIntegers)     # the amount from invoice i in bin j\n",
    "mdl.X_used = pyo.Var(mdl.invs, domain=pyo.Binary)\n",
    "\n",
    "### Objective ###\n",
    "\n",
    "mdl.OBJ = pyo.Objective(expr=sum(mdl.X[i, b]*mdl.value[i] for \n",
    "                        i in mdl.invs for\n",
    "                        b in mdl.bins), sense=pyo.maximize)\n",
    "\n",
    "### constraints ###\n",
    "\n",
    "# don't overstuff bin\n",
    "def bin_limit(self, b):\n",
    "    return sum(mdl.X[i, b] for i in mdl.invs) <= mdl.bin_cap[b]\n",
    "mdl.c1 = pyo.Constraint(mdl.bins, rule=bin_limit)\n",
    "\n",
    "# all-or-nothing\n",
    "def use_all(self, i):\n",
    "    return sum(mdl.X[i, b] for b in mdl.bins) == mdl.X_used[i]*mdl.weight[i]\n",
    "mdl.c2 = pyo.Constraint(mdl.invs, rule=use_all)\n",
    "\n",
    "# don't allow prohibited placements\n",
    "def limit_prohib(self, i, b):\n",
    "    return mdl.X[i, b] == 0\n",
    "mdl.c3 = pyo.Constraint(mdl.prohibited, rule=limit_prohib)\n",
    "\n",
    "# solve it...\n",
    "solver = pyo.SolverFactory('glpk')\n",
    "results = solver.solve(mdl)\n",
    "mdl.X.display()"
   ]
  },
  {
   "cell_type": "code",
   "execution_count": null,
   "metadata": {},
   "outputs": [],
   "source": []
  }
 ],
 "metadata": {
  "kernelspec": {
   "display_name": "Python 3",
   "language": "python",
   "name": "python3"
  },
  "language_info": {
   "codemirror_mode": {
    "name": "ipython",
    "version": 3
   },
   "file_extension": ".py",
   "mimetype": "text/x-python",
   "name": "python",
   "nbconvert_exporter": "python",
   "pygments_lexer": "ipython3",
   "version": "3.7.7"
  }
 },
 "nbformat": 4,
 "nbformat_minor": 4
}
